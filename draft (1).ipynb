{
 "cells": [
  {
   "cell_type": "code",
   "execution_count": 2,
   "id": "a3646ad2-cfd8-4464-b942-b3374a5aa3d9",
   "metadata": {},
   "outputs": [],
   "source": [
    "from sklearn.tree import DecisionTreeRegressor, plot_tree\n",
    "import pandas as pd\n",
    "import numpy as np\n",
    "import matplotlib.pyplot as plt\n",
    "import statsmodels.formula.api as smf\n",
    "import scipy\n",
    "from patsy.contrasts import Treatment, Sum\n",
    "from plotnine import *"
   ]
  },
  {
   "cell_type": "code",
   "execution_count": 3,
   "id": "5752841c-7669-4d59-bdae-80f1141e0f82",
   "metadata": {},
   "outputs": [],
   "source": []
  },
  {
   "cell_type": "code",
   "execution_count": 4,
   "id": "c701350f-671c-4641-9389-3654db10bf41",
   "metadata": {},
   "outputs": [],
   "source": []
  },
  {
   "cell_type": "code",
   "execution_count": 227,
   "id": "00701b28-710a-49c3-9c2b-66fe6922abc7",
   "metadata": {},
   "outputs": [],
   "source": [
    "df = pd.read_csv(\"~/income.csv\")"
   ]
  },
  {
   "cell_type": "markdown",
   "id": "c28c21fa-2a3c-4041-b60e-b2bd5955d941",
   "metadata": {
    "tags": []
   },
   "source": [
    "## Q A"
   ]
  },
  {
   "cell_type": "code",
   "execution_count": 6,
   "id": "cd6d5e81-3f66-497c-a775-243391c8833d",
   "metadata": {},
   "outputs": [
    {
     "data": {
      "text/html": [
       "<table class=\"simpletable\">\n",
       "<caption>OLS Regression Results</caption>\n",
       "<tr>\n",
       "  <th>Dep. Variable:</th>         <td>income</td>      <th>  R-squared:         </th> <td>   0.292</td>\n",
       "</tr>\n",
       "<tr>\n",
       "  <th>Model:</th>                   <td>OLS</td>       <th>  Adj. R-squared:    </th> <td>   0.287</td>\n",
       "</tr>\n",
       "<tr>\n",
       "  <th>Method:</th>             <td>Least Squares</td>  <th>  F-statistic:       </th> <td>   68.11</td>\n",
       "</tr>\n",
       "<tr>\n",
       "  <th>Date:</th>             <td>Thu, 20 Oct 2022</td> <th>  Prob (F-statistic):</th> <td>6.75e-37</td>\n",
       "</tr>\n",
       "<tr>\n",
       "  <th>Time:</th>                 <td>12:36:09</td>     <th>  Log-Likelihood:    </th> <td> -1719.9</td>\n",
       "</tr>\n",
       "<tr>\n",
       "  <th>No. Observations:</th>      <td>   500</td>      <th>  AIC:               </th> <td>   3448.</td>\n",
       "</tr>\n",
       "<tr>\n",
       "  <th>Df Residuals:</th>          <td>   496</td>      <th>  BIC:               </th> <td>   3465.</td>\n",
       "</tr>\n",
       "<tr>\n",
       "  <th>Df Model:</th>              <td>     3</td>      <th>                     </th>     <td> </td>   \n",
       "</tr>\n",
       "<tr>\n",
       "  <th>Covariance Type:</th>      <td>nonrobust</td>    <th>                     </th>     <td> </td>   \n",
       "</tr>\n",
       "</table>\n",
       "<table class=\"simpletable\">\n",
       "<tr>\n",
       "                    <td></td>                      <th>coef</th>     <th>std err</th>      <th>t</th>      <th>P>|t|</th>  <th>[0.025</th>    <th>0.975]</th>  \n",
       "</tr>\n",
       "<tr>\n",
       "  <th>Intercept</th>                            <td>   18.2853</td> <td>    1.734</td> <td>   10.542</td> <td> 0.000</td> <td>   14.877</td> <td>   21.693</td>\n",
       "</tr>\n",
       "<tr>\n",
       "  <th>C(group, group_contrast)[T.B]</th>        <td>    5.8744</td> <td>    2.097</td> <td>    2.801</td> <td> 0.005</td> <td>    1.754</td> <td>    9.995</td>\n",
       "</tr>\n",
       "<tr>\n",
       "  <th>jobexp</th>                               <td>    0.0451</td> <td>    0.139</td> <td>    0.323</td> <td> 0.746</td> <td>   -0.229</td> <td>    0.319</td>\n",
       "</tr>\n",
       "<tr>\n",
       "  <th>C(group, group_contrast)[T.B]:jobexp</th> <td>    0.3720</td> <td>    0.160</td> <td>    2.321</td> <td> 0.021</td> <td>    0.057</td> <td>    0.687</td>\n",
       "</tr>\n",
       "</table>\n",
       "<table class=\"simpletable\">\n",
       "<tr>\n",
       "  <th>Omnibus:</th>       <td>29.966</td> <th>  Durbin-Watson:     </th> <td>   0.139</td>\n",
       "</tr>\n",
       "<tr>\n",
       "  <th>Prob(Omnibus):</th> <td> 0.000</td> <th>  Jarque-Bera (JB):  </th> <td>  34.289</td>\n",
       "</tr>\n",
       "<tr>\n",
       "  <th>Skew:</th>          <td> 0.636</td> <th>  Prob(JB):          </th> <td>3.58e-08</td>\n",
       "</tr>\n",
       "<tr>\n",
       "  <th>Kurtosis:</th>      <td> 2.838</td> <th>  Cond. No.          </th> <td>    149.</td>\n",
       "</tr>\n",
       "</table><br/><br/>Notes:<br/>[1] Standard Errors assume that the covariance matrix of the errors is correctly specified."
      ],
      "text/plain": [
       "<class 'statsmodels.iolib.summary.Summary'>\n",
       "\"\"\"\n",
       "                            OLS Regression Results                            \n",
       "==============================================================================\n",
       "Dep. Variable:                 income   R-squared:                       0.292\n",
       "Model:                            OLS   Adj. R-squared:                  0.287\n",
       "Method:                 Least Squares   F-statistic:                     68.11\n",
       "Date:                Thu, 20 Oct 2022   Prob (F-statistic):           6.75e-37\n",
       "Time:                        12:36:09   Log-Likelihood:                -1719.9\n",
       "No. Observations:                 500   AIC:                             3448.\n",
       "Df Residuals:                     496   BIC:                             3465.\n",
       "Df Model:                           3                                         \n",
       "Covariance Type:            nonrobust                                         \n",
       "========================================================================================================\n",
       "                                           coef    std err          t      P>|t|      [0.025      0.975]\n",
       "--------------------------------------------------------------------------------------------------------\n",
       "Intercept                               18.2853      1.734     10.542      0.000      14.877      21.693\n",
       "C(group, group_contrast)[T.B]            5.8744      2.097      2.801      0.005       1.754       9.995\n",
       "jobexp                                   0.0451      0.139      0.323      0.746      -0.229       0.319\n",
       "C(group, group_contrast)[T.B]:jobexp     0.3720      0.160      2.321      0.021       0.057       0.687\n",
       "==============================================================================\n",
       "Omnibus:                       29.966   Durbin-Watson:                   0.139\n",
       "Prob(Omnibus):                  0.000   Jarque-Bera (JB):               34.289\n",
       "Skew:                           0.636   Prob(JB):                     3.58e-08\n",
       "Kurtosis:                       2.838   Cond. No.                         149.\n",
       "==============================================================================\n",
       "\n",
       "Notes:\n",
       "[1] Standard Errors assume that the covariance matrix of the errors is correctly specified.\n",
       "\"\"\""
      ]
     },
     "execution_count": 6,
     "metadata": {},
     "output_type": "execute_result"
    }
   ],
   "source": [
    "group_contrast = Treatment(reference = \"A\").code_without_intercept(['A','B'])\n",
    "lm_smf_res = smf.ols('income ~jobexp  +\\\n",
    "                C( group, group_contrast) + \\\n",
    "                C( group, group_contrast):jobexp',data = df ).fit()\n",
    "lm_smf_res.summary()"
   ]
  },
  {
   "cell_type": "code",
   "execution_count": 7,
   "id": "6f62af2d-4934-4c69-bd1d-e0b29b9848a3",
   "metadata": {},
   "outputs": [
    {
     "data": {
      "text/html": [
       "<div>\n",
       "<style scoped>\n",
       "    .dataframe tbody tr th:only-of-type {\n",
       "        vertical-align: middle;\n",
       "    }\n",
       "\n",
       "    .dataframe tbody tr th {\n",
       "        vertical-align: top;\n",
       "    }\n",
       "\n",
       "    .dataframe thead th {\n",
       "        text-align: right;\n",
       "    }\n",
       "</style>\n",
       "<table border=\"1\" class=\"dataframe\">\n",
       "  <thead>\n",
       "    <tr style=\"text-align: right;\">\n",
       "      <th></th>\n",
       "      <th>income</th>\n",
       "      <th>educ</th>\n",
       "      <th>jobexp</th>\n",
       "      <th>group</th>\n",
       "    </tr>\n",
       "  </thead>\n",
       "  <tbody>\n",
       "    <tr>\n",
       "      <th>0</th>\n",
       "      <td>5.0</td>\n",
       "      <td>2</td>\n",
       "      <td>9</td>\n",
       "      <td>A</td>\n",
       "    </tr>\n",
       "    <tr>\n",
       "      <th>1</th>\n",
       "      <td>9.7</td>\n",
       "      <td>4</td>\n",
       "      <td>18</td>\n",
       "      <td>A</td>\n",
       "    </tr>\n",
       "    <tr>\n",
       "      <th>2</th>\n",
       "      <td>28.4</td>\n",
       "      <td>8</td>\n",
       "      <td>21</td>\n",
       "      <td>B</td>\n",
       "    </tr>\n",
       "    <tr>\n",
       "      <th>3</th>\n",
       "      <td>8.8</td>\n",
       "      <td>8</td>\n",
       "      <td>12</td>\n",
       "      <td>A</td>\n",
       "    </tr>\n",
       "    <tr>\n",
       "      <th>4</th>\n",
       "      <td>21.0</td>\n",
       "      <td>8</td>\n",
       "      <td>14</td>\n",
       "      <td>A</td>\n",
       "    </tr>\n",
       "    <tr>\n",
       "      <th>...</th>\n",
       "      <td>...</td>\n",
       "      <td>...</td>\n",
       "      <td>...</td>\n",
       "      <td>...</td>\n",
       "    </tr>\n",
       "    <tr>\n",
       "      <th>495</th>\n",
       "      <td>48.3</td>\n",
       "      <td>21</td>\n",
       "      <td>17</td>\n",
       "      <td>B</td>\n",
       "    </tr>\n",
       "    <tr>\n",
       "      <th>496</th>\n",
       "      <td>48.3</td>\n",
       "      <td>21</td>\n",
       "      <td>17</td>\n",
       "      <td>B</td>\n",
       "    </tr>\n",
       "    <tr>\n",
       "      <th>497</th>\n",
       "      <td>48.3</td>\n",
       "      <td>21</td>\n",
       "      <td>17</td>\n",
       "      <td>B</td>\n",
       "    </tr>\n",
       "    <tr>\n",
       "      <th>498</th>\n",
       "      <td>48.3</td>\n",
       "      <td>21</td>\n",
       "      <td>17</td>\n",
       "      <td>B</td>\n",
       "    </tr>\n",
       "    <tr>\n",
       "      <th>499</th>\n",
       "      <td>48.3</td>\n",
       "      <td>21</td>\n",
       "      <td>17</td>\n",
       "      <td>B</td>\n",
       "    </tr>\n",
       "  </tbody>\n",
       "</table>\n",
       "<p>500 rows × 4 columns</p>\n",
       "</div>"
      ],
      "text/plain": [
       "     income  educ  jobexp group\n",
       "0       5.0     2       9     A\n",
       "1       9.7     4      18     A\n",
       "2      28.4     8      21     B\n",
       "3       8.8     8      12     A\n",
       "4      21.0     8      14     A\n",
       "..      ...   ...     ...   ...\n",
       "495    48.3    21      17     B\n",
       "496    48.3    21      17     B\n",
       "497    48.3    21      17     B\n",
       "498    48.3    21      17     B\n",
       "499    48.3    21      17     B\n",
       "\n",
       "[500 rows x 4 columns]"
      ]
     },
     "execution_count": 7,
     "metadata": {},
     "output_type": "execute_result"
    }
   ],
   "source": [
    "df"
   ]
  },
  {
   "cell_type": "markdown",
   "id": "7677084a-935b-43d0-998e-c7b21c62a233",
   "metadata": {},
   "source": [
    "## QA A&B"
   ]
  },
  {
   "cell_type": "code",
   "execution_count": 8,
   "id": "b031725d-7352-4780-ba07-0430cd82c02b",
   "metadata": {},
   "outputs": [],
   "source": [
    "df_aa = pd.DataFrame({ \"jobexp\": np.arange(1.0,21.5,0.5) ,\"group\": \"A\" })\n",
    "df_ab = pd.DataFrame({ \"jobexp\": np.arange(1.0,21.5,0.5) ,\"group\": \"B\" })"
   ]
  },
  {
   "cell_type": "code",
   "execution_count": 9,
   "id": "2b43efd0-f31c-47ac-a54a-84fa50141ea1",
   "metadata": {},
   "outputs": [],
   "source": [
    "df_aa[\"income\"] =  lm_smf_res.predict(df_aa)\n",
    "df_ab[\"income\"] =  lm_smf_res.predict(df_ab)\n"
   ]
  },
  {
   "cell_type": "markdown",
   "id": "3b2e6393-36cc-45ca-b706-8b2db3d5505b",
   "metadata": {},
   "source": [
    "## QA C"
   ]
  },
  {
   "cell_type": "code",
   "execution_count": 10,
   "id": "3457328c-9209-41dd-975a-a63abbfb3469",
   "metadata": {},
   "outputs": [],
   "source": [
    "df_ac = pd.concat([df_aa,df_ab])"
   ]
  },
  {
   "cell_type": "code",
   "execution_count": 11,
   "id": "284b11e1-9f2e-464d-96ec-8919c454a80f",
   "metadata": {},
   "outputs": [
    {
     "data": {
      "text/html": [
       "<div>\n",
       "<style scoped>\n",
       "    .dataframe tbody tr th:only-of-type {\n",
       "        vertical-align: middle;\n",
       "    }\n",
       "\n",
       "    .dataframe tbody tr th {\n",
       "        vertical-align: top;\n",
       "    }\n",
       "\n",
       "    .dataframe thead th {\n",
       "        text-align: right;\n",
       "    }\n",
       "</style>\n",
       "<table border=\"1\" class=\"dataframe\">\n",
       "  <thead>\n",
       "    <tr style=\"text-align: right;\">\n",
       "      <th></th>\n",
       "      <th>jobexp</th>\n",
       "      <th>group</th>\n",
       "      <th>income</th>\n",
       "    </tr>\n",
       "  </thead>\n",
       "  <tbody>\n",
       "    <tr>\n",
       "      <th>0</th>\n",
       "      <td>1.0</td>\n",
       "      <td>A</td>\n",
       "      <td>18.330379</td>\n",
       "    </tr>\n",
       "    <tr>\n",
       "      <th>1</th>\n",
       "      <td>1.5</td>\n",
       "      <td>A</td>\n",
       "      <td>18.352909</td>\n",
       "    </tr>\n",
       "    <tr>\n",
       "      <th>2</th>\n",
       "      <td>2.0</td>\n",
       "      <td>A</td>\n",
       "      <td>18.375440</td>\n",
       "    </tr>\n",
       "    <tr>\n",
       "      <th>3</th>\n",
       "      <td>2.5</td>\n",
       "      <td>A</td>\n",
       "      <td>18.397970</td>\n",
       "    </tr>\n",
       "    <tr>\n",
       "      <th>4</th>\n",
       "      <td>3.0</td>\n",
       "      <td>A</td>\n",
       "      <td>18.420501</td>\n",
       "    </tr>\n",
       "    <tr>\n",
       "      <th>...</th>\n",
       "      <td>...</td>\n",
       "      <td>...</td>\n",
       "      <td>...</td>\n",
       "    </tr>\n",
       "    <tr>\n",
       "      <th>36</th>\n",
       "      <td>19.0</td>\n",
       "      <td>B</td>\n",
       "      <td>32.083486</td>\n",
       "    </tr>\n",
       "    <tr>\n",
       "      <th>37</th>\n",
       "      <td>19.5</td>\n",
       "      <td>B</td>\n",
       "      <td>32.292005</td>\n",
       "    </tr>\n",
       "    <tr>\n",
       "      <th>38</th>\n",
       "      <td>20.0</td>\n",
       "      <td>B</td>\n",
       "      <td>32.500524</td>\n",
       "    </tr>\n",
       "    <tr>\n",
       "      <th>39</th>\n",
       "      <td>20.5</td>\n",
       "      <td>B</td>\n",
       "      <td>32.709043</td>\n",
       "    </tr>\n",
       "    <tr>\n",
       "      <th>40</th>\n",
       "      <td>21.0</td>\n",
       "      <td>B</td>\n",
       "      <td>32.917562</td>\n",
       "    </tr>\n",
       "  </tbody>\n",
       "</table>\n",
       "<p>82 rows × 3 columns</p>\n",
       "</div>"
      ],
      "text/plain": [
       "    jobexp group     income\n",
       "0      1.0     A  18.330379\n",
       "1      1.5     A  18.352909\n",
       "2      2.0     A  18.375440\n",
       "3      2.5     A  18.397970\n",
       "4      3.0     A  18.420501\n",
       "..     ...   ...        ...\n",
       "36    19.0     B  32.083486\n",
       "37    19.5     B  32.292005\n",
       "38    20.0     B  32.500524\n",
       "39    20.5     B  32.709043\n",
       "40    21.0     B  32.917562\n",
       "\n",
       "[82 rows x 3 columns]"
      ]
     },
     "execution_count": 11,
     "metadata": {},
     "output_type": "execute_result"
    }
   ],
   "source": [
    "df_ac"
   ]
  },
  {
   "cell_type": "code",
   "execution_count": 12,
   "id": "3f182579-f686-4f67-a61d-3c2b7cb12937",
   "metadata": {},
   "outputs": [],
   "source": [
    "df_a_result = df_aa.merge(df_ab, on = \"jobexp\")\n",
    "df_a_result = df_a_result.drop([\"group_x\",\"group_y\"],axis = 1)\n",
    "df_a_result[\"predict income B - A\"] =df_a_result.income_y - df_a_result.income_x"
   ]
  },
  {
   "cell_type": "code",
   "execution_count": 13,
   "id": "19f81a18-69c8-4ebc-83e8-eda7cc9b4cb4",
   "metadata": {},
   "outputs": [],
   "source": [
    "df_a_result.columns = [\"jobexp\",\"predicted income A\",\"predicted income B\",\"predict income B - A\" ]"
   ]
  },
  {
   "cell_type": "code",
   "execution_count": 14,
   "id": "17eb1026-e8e5-44d8-8f0d-52ba39d681f6",
   "metadata": {},
   "outputs": [],
   "source": [
    "df_a_result.to_csv(\"~/a_result.csv\")"
   ]
  },
  {
   "cell_type": "code",
   "execution_count": 15,
   "id": "21228ea2-f321-4bdb-bfb2-e78d6767ae01",
   "metadata": {},
   "outputs": [
    {
     "data": {
      "image/png": "[encoded data removed]",
      "text/plain": [
       "<Figure size 900x900 with 1 Axes>"
      ]
     },
     "metadata": {},
     "output_type": "display_data"
    },
    {
     "data": {
      "text/plain": [
       "<ggplot: (2978473485174)>"
      ]
     },
     "execution_count": 15,
     "metadata": {},
     "output_type": "execute_result"
    }
   ],
   "source": [
    "df_ac = pd.concat([df_aa,df_ab])\n",
    "ggplot(df_ac,aes(x = df_ac.jobexp, y = df_ac.income, color = df_ac.group)) + geom_line()+\\\n",
    "  xlab('job exp') + ylab('predicted income')+theme(figure_size = (9, 9))+scale_colour_manual({\"A\":\"red\",\"B\":\"blue\"})"
   ]
  },
  {
   "cell_type": "markdown",
   "id": "8b37cd7f-a66d-43dc-b33e-c0faa5f313c6",
   "metadata": {},
   "source": [
    "## Q B"
   ]
  },
  {
   "cell_type": "code",
   "execution_count": 3,
   "id": "7d790fc5-90e6-4581-8e8e-f4241d55e99b",
   "metadata": {},
   "outputs": [],
   "source": [
    "df = pd.read_csv(\"~/income.csv\")"
   ]
  },
  {
   "cell_type": "code",
   "execution_count": 16,
   "id": "018fb5d1-d794-4a12-a13e-2950839129d9",
   "metadata": {},
   "outputs": [],
   "source": [
    "df = df.drop(\"educ\",axis = 1)"
   ]
  },
  {
   "cell_type": "markdown",
   "id": "0a7eaf6c-416f-48f1-ad5b-8edc2fa32d10",
   "metadata": {},
   "source": [
    "Since sklearn cannot handle string variable, convert the group variable into whether the student is in group A"
   ]
  },
  {
   "cell_type": "code",
   "execution_count": 17,
   "id": "c32ca069-d9a5-4ec9-a709-9596e6b0b41c",
   "metadata": {},
   "outputs": [],
   "source": [
    "df[\"group_A\"] = [x == \"A\" for x in df.group]"
   ]
  },
  {
   "cell_type": "code",
   "execution_count": 18,
   "id": "b5c026bf-2e38-4da4-982f-c7052621a169",
   "metadata": {},
   "outputs": [],
   "source": [
    "tree = DecisionTreeRegressor(criterion = 'squared_error', max_depth = 2, max_leaf_nodes = 10).fit(df[[\"jobexp\",\"group_A\"]],df[[\"income\"]])"
   ]
  },
  {
   "cell_type": "code",
   "execution_count": 19,
   "id": "000e8815-1d62-447c-9a7a-08e5eec632a5",
   "metadata": {},
   "outputs": [
    {
     "data": {
      "text/html": [
       "<div>\n",
       "<style scoped>\n",
       "    .dataframe tbody tr th:only-of-type {\n",
       "        vertical-align: middle;\n",
       "    }\n",
       "\n",
       "    .dataframe tbody tr th {\n",
       "        vertical-align: top;\n",
       "    }\n",
       "\n",
       "    .dataframe thead th {\n",
       "        text-align: right;\n",
       "    }\n",
       "</style>\n",
       "<table border=\"1\" class=\"dataframe\">\n",
       "  <thead>\n",
       "    <tr style=\"text-align: right;\">\n",
       "      <th></th>\n",
       "      <th>income</th>\n",
       "      <th>jobexp</th>\n",
       "      <th>group</th>\n",
       "      <th>group_A</th>\n",
       "    </tr>\n",
       "  </thead>\n",
       "  <tbody>\n",
       "    <tr>\n",
       "      <th>0</th>\n",
       "      <td>5.0</td>\n",
       "      <td>9</td>\n",
       "      <td>A</td>\n",
       "      <td>True</td>\n",
       "    </tr>\n",
       "    <tr>\n",
       "      <th>1</th>\n",
       "      <td>9.7</td>\n",
       "      <td>18</td>\n",
       "      <td>A</td>\n",
       "      <td>True</td>\n",
       "    </tr>\n",
       "    <tr>\n",
       "      <th>2</th>\n",
       "      <td>28.4</td>\n",
       "      <td>21</td>\n",
       "      <td>B</td>\n",
       "      <td>False</td>\n",
       "    </tr>\n",
       "    <tr>\n",
       "      <th>3</th>\n",
       "      <td>8.8</td>\n",
       "      <td>12</td>\n",
       "      <td>A</td>\n",
       "      <td>True</td>\n",
       "    </tr>\n",
       "    <tr>\n",
       "      <th>4</th>\n",
       "      <td>21.0</td>\n",
       "      <td>14</td>\n",
       "      <td>A</td>\n",
       "      <td>True</td>\n",
       "    </tr>\n",
       "    <tr>\n",
       "      <th>...</th>\n",
       "      <td>...</td>\n",
       "      <td>...</td>\n",
       "      <td>...</td>\n",
       "      <td>...</td>\n",
       "    </tr>\n",
       "    <tr>\n",
       "      <th>495</th>\n",
       "      <td>48.3</td>\n",
       "      <td>17</td>\n",
       "      <td>B</td>\n",
       "      <td>False</td>\n",
       "    </tr>\n",
       "    <tr>\n",
       "      <th>496</th>\n",
       "      <td>48.3</td>\n",
       "      <td>17</td>\n",
       "      <td>B</td>\n",
       "      <td>False</td>\n",
       "    </tr>\n",
       "    <tr>\n",
       "      <th>497</th>\n",
       "      <td>48.3</td>\n",
       "      <td>17</td>\n",
       "      <td>B</td>\n",
       "      <td>False</td>\n",
       "    </tr>\n",
       "    <tr>\n",
       "      <th>498</th>\n",
       "      <td>48.3</td>\n",
       "      <td>17</td>\n",
       "      <td>B</td>\n",
       "      <td>False</td>\n",
       "    </tr>\n",
       "    <tr>\n",
       "      <th>499</th>\n",
       "      <td>48.3</td>\n",
       "      <td>17</td>\n",
       "      <td>B</td>\n",
       "      <td>False</td>\n",
       "    </tr>\n",
       "  </tbody>\n",
       "</table>\n",
       "<p>500 rows × 4 columns</p>\n",
       "</div>"
      ],
      "text/plain": [
       "     income  jobexp group  group_A\n",
       "0       5.0       9     A     True\n",
       "1       9.7      18     A     True\n",
       "2      28.4      21     B    False\n",
       "3       8.8      12     A     True\n",
       "4      21.0      14     A     True\n",
       "..      ...     ...   ...      ...\n",
       "495    48.3      17     B    False\n",
       "496    48.3      17     B    False\n",
       "497    48.3      17     B    False\n",
       "498    48.3      17     B    False\n",
       "499    48.3      17     B    False\n",
       "\n",
       "[500 rows x 4 columns]"
      ]
     },
     "execution_count": 19,
     "metadata": {},
     "output_type": "execute_result"
    }
   ],
   "source": [
    "df"
   ]
  },
  {
   "cell_type": "markdown",
   "id": "806aafd2-fe22-4d0f-918f-c85ac71ca7c7",
   "metadata": {},
   "source": [
    "### Q B.A"
   ]
  },
  {
   "cell_type": "code",
   "execution_count": 20,
   "id": "35b1fb56-acca-4141-9e8b-4c5604813ea4",
   "metadata": {},
   "outputs": [
    {
     "data": {
      "image/png": "[encoded data removed]",
      "text/plain": [
       "<Figure size 864x864 with 1 Axes>"
      ]
     },
     "metadata": {
      "needs_background": "light"
     },
     "output_type": "display_data"
    }
   ],
   "source": [
    "plt.figure(figsize=(12,12))  # set plot size (denoted in inches)\n",
    "plot_tree(tree,fontsize=10)\n",
    "plt.show()"
   ]
  },
  {
   "cell_type": "code",
   "execution_count": 21,
   "id": "6d807993-b681-4bcb-8862-e6e1c23a11af",
   "metadata": {},
   "outputs": [
    {
     "data": {
      "text/plain": [
       "DecisionTreeRegressor(max_depth=2, max_leaf_nodes=10)"
      ]
     },
     "execution_count": 21,
     "metadata": {},
     "output_type": "execute_result"
    }
   ],
   "source": [
    "tree"
   ]
  },
  {
   "cell_type": "markdown",
   "id": "1d8ba6ae-c38a-45c7-a203-4ac6aba1fed0",
   "metadata": {},
   "source": [
    "### QB.B\n"
   ]
  },
  {
   "cell_type": "code",
   "execution_count": 22,
   "id": "b159456e-3c02-455c-9dc7-89d4778f493a",
   "metadata": {},
   "outputs": [
    {
     "data": {
      "text/plain": [
       "array([ 1. ,  1.5,  2. ,  2.5,  3. ,  3.5,  4. ,  4.5,  5. ,  5.5,  6. ,\n",
       "        6.5,  7. ,  7.5,  8. ,  8.5,  9. ,  9.5, 10. , 10.5, 11. , 11.5,\n",
       "       12. , 12.5, 13. , 13.5, 14. , 14.5, 15. , 15.5, 16. , 16.5, 17. ,\n",
       "       17.5, 18. , 18.5, 19. , 19.5, 20. , 20.5, 21. ])"
      ]
     },
     "execution_count": 22,
     "metadata": {},
     "output_type": "execute_result"
    }
   ],
   "source": [
    "np.arange(1.0,21.5,0.5)"
   ]
  },
  {
   "cell_type": "code",
   "execution_count": 23,
   "id": "bea978e1-b5d9-4882-96b0-906b426cf478",
   "metadata": {},
   "outputs": [],
   "source": [
    "df_bb = pd.DataFrame({ \"jobexp\": np.arange(1.0,21.5,0.5) ,\"group_A\": True })"
   ]
  },
  {
   "cell_type": "code",
   "execution_count": 24,
   "id": "234d7663-462d-46a9-9aca-ddc52423b4e4",
   "metadata": {},
   "outputs": [],
   "source": [
    "income_pred_bb = tree.predict(df_bb)"
   ]
  },
  {
   "cell_type": "code",
   "execution_count": 25,
   "id": "a8179a08-4fa1-43b7-a335-98a10b8640bc",
   "metadata": {},
   "outputs": [
    {
     "data": {
      "text/plain": [
       "array([17.71111111, 17.71111111, 17.71111111, 17.71111111, 17.71111111,\n",
       "       17.71111111, 17.71111111, 17.71111111, 17.71111111, 17.71111111,\n",
       "       17.71111111, 17.71111111, 17.71111111, 17.71111111, 17.71111111,\n",
       "       17.71111111, 17.71111111, 17.71111111, 17.71111111, 17.71111111,\n",
       "       17.71111111, 17.71111111, 17.71111111, 17.71111111, 17.71111111,\n",
       "       17.71111111, 17.71111111, 17.71111111, 17.71111111, 17.71111111,\n",
       "       17.71111111, 17.71111111, 17.71111111, 17.71111111, 17.71111111,\n",
       "       17.71111111, 28.5       , 28.5       , 28.5       , 28.5       ,\n",
       "       28.5       ])"
      ]
     },
     "execution_count": 25,
     "metadata": {},
     "output_type": "execute_result"
    }
   ],
   "source": [
    "income_pred_bb"
   ]
  },
  {
   "cell_type": "markdown",
   "id": "a9ba7ed8-9597-4367-a72d-1f8821d647b2",
   "metadata": {},
   "source": [
    "### QB.C"
   ]
  },
  {
   "cell_type": "code",
   "execution_count": 26,
   "id": "5739813a-3332-4877-9554-ee62a19b07d5",
   "metadata": {},
   "outputs": [],
   "source": [
    "df_bc = pd.DataFrame({ \"jobexp\": np.arange(1.0,21.5,0.5) ,\"group_A\": False })\n",
    "income_pred_bc = tree.predict(df_bc)"
   ]
  },
  {
   "cell_type": "code",
   "execution_count": 27,
   "id": "9eafcc26-7686-4a6c-b5b2-1d798bf76e5a",
   "metadata": {},
   "outputs": [
    {
     "data": {
      "text/plain": [
       "array([23.85  , 23.85  , 23.85  , 23.85  , 23.85  , 23.85  , 23.85  ,\n",
       "       23.85  , 23.85  , 23.85  , 23.85  , 23.85  , 23.85  , 23.85  ,\n",
       "       23.85  , 23.85  , 31.5875, 31.5875, 31.5875, 31.5875, 31.5875,\n",
       "       31.5875, 31.5875, 31.5875, 31.5875, 31.5875, 31.5875, 31.5875,\n",
       "       31.5875, 31.5875, 31.5875, 31.5875, 31.5875, 31.5875, 31.5875,\n",
       "       31.5875, 31.5875, 31.5875, 31.5875, 31.5875, 31.5875])"
      ]
     },
     "execution_count": 27,
     "metadata": {},
     "output_type": "execute_result"
    }
   ],
   "source": [
    "income_pred_bc"
   ]
  },
  {
   "cell_type": "markdown",
   "id": "38a6c5d2-6e7c-45b5-a248-246267034d05",
   "metadata": {},
   "source": [
    "### QB.D"
   ]
  },
  {
   "cell_type": "code",
   "execution_count": 28,
   "id": "42165d80-2586-4a44-acef-14f1b59f5a3b",
   "metadata": {},
   "outputs": [],
   "source": [
    "df_bb[\"income\"] = income_pred_bb\n",
    "df_bc[\"income\"] = income_pred_bc"
   ]
  },
  {
   "cell_type": "code",
   "execution_count": null,
   "id": "7d504f7d-9995-4351-a10a-fc0add2c008f",
   "metadata": {},
   "outputs": [],
   "source": []
  },
  {
   "cell_type": "code",
   "execution_count": null,
   "id": "203ec6df-8c70-42de-940e-838730e1fe4b",
   "metadata": {},
   "outputs": [],
   "source": []
  },
  {
   "cell_type": "code",
   "execution_count": 29,
   "id": "5c92e498-0660-4e02-bdd6-6263240ea1f9",
   "metadata": {},
   "outputs": [],
   "source": [
    "df_b_result = df_bb.merge(df_bc, on = \"jobexp\")\n",
    "df_b_result = df_b_result.drop([\"group_A_x\",\"group_A_y\"],axis = 1)\n",
    "df_b_result[\"predict income B - A\"] =df_b_result.income_y - df_b_result.income_x"
   ]
  },
  {
   "cell_type": "code",
   "execution_count": 30,
   "id": "5afd6b23-d636-41c4-a59c-58a2e9ebb7ef",
   "metadata": {},
   "outputs": [],
   "source": [
    "df_b_result.columns = [\"jobexp\",\"predicted income A\",\"predicted income B\",\"predict income B - A\" ]"
   ]
  },
  {
   "cell_type": "code",
   "execution_count": 236,
   "id": "e14f2e73-eb0a-48b9-951f-31b0227265cb",
   "metadata": {},
   "outputs": [],
   "source": [
    "df_b_result.to_csv(\"~/b.result.csv\")"
   ]
  },
  {
   "cell_type": "code",
   "execution_count": 31,
   "id": "0caa4569-60ec-4469-a195-023cb6b86846",
   "metadata": {},
   "outputs": [],
   "source": [
    "df_bd = pd.concat([df_bb,df_bc],axis = 0)"
   ]
  },
  {
   "cell_type": "code",
   "execution_count": 32,
   "id": "23c9d7c4-3bbb-48a0-aabd-0ede8e77a55a",
   "metadata": {},
   "outputs": [],
   "source": [
    "df_bd[\"group\"] = [\"A\" if x else \"B\" for x in df_bd.group_A]"
   ]
  },
  {
   "cell_type": "code",
   "execution_count": 33,
   "id": "25c8e3ef-70f5-4adc-ba44-aa988743af01",
   "metadata": {},
   "outputs": [
    {
     "data": {
      "text/html": [
       "<div>\n",
       "<style scoped>\n",
       "    .dataframe tbody tr th:only-of-type {\n",
       "        vertical-align: middle;\n",
       "    }\n",
       "\n",
       "    .dataframe tbody tr th {\n",
       "        vertical-align: top;\n",
       "    }\n",
       "\n",
       "    .dataframe thead th {\n",
       "        text-align: right;\n",
       "    }\n",
       "</style>\n",
       "<table border=\"1\" class=\"dataframe\">\n",
       "  <thead>\n",
       "    <tr style=\"text-align: right;\">\n",
       "      <th></th>\n",
       "      <th>jobexp</th>\n",
       "      <th>group_A</th>\n",
       "      <th>income</th>\n",
       "      <th>group</th>\n",
       "    </tr>\n",
       "  </thead>\n",
       "  <tbody>\n",
       "    <tr>\n",
       "      <th>0</th>\n",
       "      <td>1.0</td>\n",
       "      <td>True</td>\n",
       "      <td>17.711111</td>\n",
       "      <td>A</td>\n",
       "    </tr>\n",
       "    <tr>\n",
       "      <th>1</th>\n",
       "      <td>1.5</td>\n",
       "      <td>True</td>\n",
       "      <td>17.711111</td>\n",
       "      <td>A</td>\n",
       "    </tr>\n",
       "    <tr>\n",
       "      <th>2</th>\n",
       "      <td>2.0</td>\n",
       "      <td>True</td>\n",
       "      <td>17.711111</td>\n",
       "      <td>A</td>\n",
       "    </tr>\n",
       "    <tr>\n",
       "      <th>3</th>\n",
       "      <td>2.5</td>\n",
       "      <td>True</td>\n",
       "      <td>17.711111</td>\n",
       "      <td>A</td>\n",
       "    </tr>\n",
       "    <tr>\n",
       "      <th>4</th>\n",
       "      <td>3.0</td>\n",
       "      <td>True</td>\n",
       "      <td>17.711111</td>\n",
       "      <td>A</td>\n",
       "    </tr>\n",
       "    <tr>\n",
       "      <th>...</th>\n",
       "      <td>...</td>\n",
       "      <td>...</td>\n",
       "      <td>...</td>\n",
       "      <td>...</td>\n",
       "    </tr>\n",
       "    <tr>\n",
       "      <th>36</th>\n",
       "      <td>19.0</td>\n",
       "      <td>False</td>\n",
       "      <td>31.587500</td>\n",
       "      <td>B</td>\n",
       "    </tr>\n",
       "    <tr>\n",
       "      <th>37</th>\n",
       "      <td>19.5</td>\n",
       "      <td>False</td>\n",
       "      <td>31.587500</td>\n",
       "      <td>B</td>\n",
       "    </tr>\n",
       "    <tr>\n",
       "      <th>38</th>\n",
       "      <td>20.0</td>\n",
       "      <td>False</td>\n",
       "      <td>31.587500</td>\n",
       "      <td>B</td>\n",
       "    </tr>\n",
       "    <tr>\n",
       "      <th>39</th>\n",
       "      <td>20.5</td>\n",
       "      <td>False</td>\n",
       "      <td>31.587500</td>\n",
       "      <td>B</td>\n",
       "    </tr>\n",
       "    <tr>\n",
       "      <th>40</th>\n",
       "      <td>21.0</td>\n",
       "      <td>False</td>\n",
       "      <td>31.587500</td>\n",
       "      <td>B</td>\n",
       "    </tr>\n",
       "  </tbody>\n",
       "</table>\n",
       "<p>82 rows × 4 columns</p>\n",
       "</div>"
      ],
      "text/plain": [
       "    jobexp  group_A     income group\n",
       "0      1.0     True  17.711111     A\n",
       "1      1.5     True  17.711111     A\n",
       "2      2.0     True  17.711111     A\n",
       "3      2.5     True  17.711111     A\n",
       "4      3.0     True  17.711111     A\n",
       "..     ...      ...        ...   ...\n",
       "36    19.0    False  31.587500     B\n",
       "37    19.5    False  31.587500     B\n",
       "38    20.0    False  31.587500     B\n",
       "39    20.5    False  31.587500     B\n",
       "40    21.0    False  31.587500     B\n",
       "\n",
       "[82 rows x 4 columns]"
      ]
     },
     "execution_count": 33,
     "metadata": {},
     "output_type": "execute_result"
    }
   ],
   "source": [
    "df_bd"
   ]
  },
  {
   "cell_type": "code",
   "execution_count": 34,
   "id": "1de347a5-244c-4d47-a30a-4d217175980f",
   "metadata": {},
   "outputs": [],
   "source": [
    "#for this two tree, we calculate the sum error, and then the R-square to compare them\n",
    "ESS = np.sum((df['income'] - tree.predict(df[['jobexp','group_A']]))**2)\n"
   ]
  },
  {
   "cell_type": "code",
   "execution_count": 35,
   "id": "4da3563f-2b7c-47bb-92b5-a30e12342a61",
   "metadata": {},
   "outputs": [
    {
     "data": {
      "text/plain": [
       "25177.038888888877"
      ]
     },
     "execution_count": 35,
     "metadata": {},
     "output_type": "execute_result"
    }
   ],
   "source": [
    "ESS"
   ]
  },
  {
   "cell_type": "code",
   "execution_count": 36,
   "id": "525f3cf6-509c-4944-8887-273cf92bb423",
   "metadata": {},
   "outputs": [],
   "source": [
    "TSS = np.sum((df['income'] - np.mean(df['income']))**2)\n",
    "#Calculate the Rsquare in order to compare two models\n",
    "Rsquare = 1 - ESS/TSS"
   ]
  },
  {
   "cell_type": "code",
   "execution_count": 37,
   "id": "c4c3be5f-8ac9-4bd4-9e40-51247a11011a",
   "metadata": {},
   "outputs": [
    {
     "data": {
      "text/plain": [
       "0.3734132489932772"
      ]
     },
     "execution_count": 37,
     "metadata": {},
     "output_type": "execute_result"
    }
   ],
   "source": [
    "Rsquare"
   ]
  },
  {
   "cell_type": "code",
   "execution_count": null,
   "id": "55365a29-cb16-4865-896b-3fda97e6657c",
   "metadata": {},
   "outputs": [],
   "source": []
  },
  {
   "cell_type": "code",
   "execution_count": 42,
   "id": "5e7e0fab-a397-4f24-8183-9acf9a12ee4c",
   "metadata": {},
   "outputs": [
    {
     "name": "stderr",
     "output_type": "stream",
     "text": [
      "/home/hs3163/miniconda3/lib/python3.9/site-packages/plotnine/guides/guides.py:187: PlotnineWarning: Cannot generate legend for the 'color' aesthetic. Make sure you have mapped a variable to it\n"
     ]
    },
    {
     "data": {
      "image/png": "[encoded data removed]",
      "text/plain": [
       "<Figure size 900x900 with 1 Axes>"
      ]
     },
     "metadata": {},
     "output_type": "display_data"
    },
    {
     "data": {
      "text/plain": [
       "<ggplot: (2978473641602)>"
      ]
     },
     "execution_count": 42,
     "metadata": {},
     "output_type": "execute_result"
    }
   ],
   "source": [
    "\n",
    "ggplot(df_b_result,aes(x = df_b_result.jobexp, y = df_b_result[\"predict income B - A\"])) + geom_line()+\\\n",
    "  xlab('job exp') + ylab('predicted income')+theme(figure_size = (9, 9))+scale_colour_manual({\"A\":\"red\",\"B\":\"blue\"})+ggtitle(f'Tree: Rsquared = {Rsquare}')"
   ]
  },
  {
   "cell_type": "code",
   "execution_count": 38,
   "id": "6cff2600-7f37-4acb-88b7-6287c51afb73",
   "metadata": {},
   "outputs": [
    {
     "data": {
      "image/png": "[encoded data removed]",
      "text/plain": [
       "<Figure size 900x900 with 1 Axes>"
      ]
     },
     "metadata": {},
     "output_type": "display_data"
    },
    {
     "data": {
      "text/plain": [
       "<ggplot: (2978473527221)>"
      ]
     },
     "execution_count": 38,
     "metadata": {},
     "output_type": "execute_result"
    }
   ],
   "source": [
    "ggplot(df_bd,aes(x = df_bd.jobexp, y = df_bd.income, color = df_bd.group)) + geom_line()+\\\n",
    "  xlab('job exp') + ylab('predicted income')+theme(figure_size = (9, 9))+scale_colour_manual({\"A\":\"red\",\"B\":\"blue\"})+ggtitle(f'Tree: Rsquared = {Rsquare}')"
   ]
  },
  {
   "cell_type": "markdown",
   "id": "fab4f1c2-f389-44e3-9bbc-a6398ce9def1",
   "metadata": {
    "tags": []
   },
   "source": [
    "## QC"
   ]
  },
  {
   "cell_type": "code",
   "execution_count": 606,
   "id": "ef0853b3-e598-4109-b319-a670c5080428",
   "metadata": {},
   "outputs": [],
   "source": [
    "from sklearn.neighbors import KNeighborsRegressor\n",
    "from sklearn import datasets\n",
    "from sklearn.metrics import confusion_matrix\n",
    "import matplotlib.pyplot as plt\n",
    "from matplotlib.colors import ListedColormap\n",
    "import matplotlib.image as img"
   ]
  },
  {
   "cell_type": "code",
   "execution_count": 607,
   "id": "8a7b9ee1-a88d-4a3c-8744-237f06b53ad8",
   "metadata": {},
   "outputs": [],
   "source": [
    "from sklearn import preprocessing\n"
   ]
  },
  {
   "cell_type": "code",
   "execution_count": 613,
   "id": "0e5f22e8-8d18-4de0-b828-3edb1dabf230",
   "metadata": {},
   "outputs": [],
   "source": [
    "scaler = preprocessing.StandardScaler()"
   ]
  },
  {
   "cell_type": "code",
   "execution_count": 614,
   "id": "4525670d-009a-4ecc-a098-7bbf8e4cf2d0",
   "metadata": {},
   "outputs": [
    {
     "data": {
      "text/plain": [
       "StandardScaler()"
      ]
     },
     "execution_count": 614,
     "metadata": {},
     "output_type": "execute_result"
    }
   ],
   "source": [
    "scaler.fit(df[[\"jobexp\",\"group_A\"]])"
   ]
  },
  {
   "cell_type": "code",
   "execution_count": 618,
   "id": "0648dbcc-a6d2-44e5-bccf-9606590ea344",
   "metadata": {},
   "outputs": [
    {
     "data": {
      "text/plain": [
       "(500, 2)"
      ]
     },
     "execution_count": 618,
     "metadata": {},
     "output_type": "execute_result"
    }
   ],
   "source": [
    "df_scale.shape"
   ]
  },
  {
   "cell_type": "code",
   "execution_count": 619,
   "id": "ee18ab05-817b-4307-bd4b-d4a44d1b65c1",
   "metadata": {},
   "outputs": [],
   "source": [
    "df_scale = scaler.transform(df[[\"jobexp\",\"group_A\"]])"
   ]
  },
  {
   "cell_type": "code",
   "execution_count": 623,
   "id": "23637c04-b747-4c5e-a9e7-fb662cd1e123",
   "metadata": {},
   "outputs": [
    {
     "data": {
      "text/plain": [
       "0.3234312058208465"
      ]
     },
     "execution_count": 623,
     "metadata": {},
     "output_type": "execute_result"
    }
   ],
   "source": [
    "knn_clf = KNeighborsRegressor(12).fit(df_scale, df[\"income\"].values)\n",
    "y_pred = knn_clf.predict(df_scale)\n",
    "ESS = np.sum((df[\"income\"].values - y_pred)**2)\n",
    "TSS = np.sum((df[\"income\"].values - np.mean(df[\"income\"].values))**2)\n",
    "RsquareKNN = 1 - ESS/TSS\n",
    "RsquareKNN"
   ]
  },
  {
   "cell_type": "code",
   "execution_count": 624,
   "id": "d03b7e3c-4971-420d-a740-01cc08fc794e",
   "metadata": {},
   "outputs": [
    {
     "data": {
      "text/plain": [
       "0.4246880359548292"
      ]
     },
     "execution_count": 624,
     "metadata": {},
     "output_type": "execute_result"
    }
   ],
   "source": []
  },
  {
   "cell_type": "markdown",
   "id": "1a04c267-1e43-4afd-84f7-4cbd4662a4a8",
   "metadata": {},
   "source": [
    "## QC c"
   ]
  },
  {
   "cell_type": "code",
   "execution_count": 631,
   "id": "bd9a20b5-a40f-4155-a222-9f67870a898b",
   "metadata": {},
   "outputs": [],
   "source": [
    "df_ca = scaler.transform(df_bb[[\"jobexp\",\"group_A\"]])\n",
    "df_cb = scaler.transform(df_bc[[\"jobexp\",\"group_A\"]])"
   ]
  },
  {
   "cell_type": "code",
   "execution_count": 627,
   "id": "b399ebbb-6b0e-4418-937f-6a900e0dc447",
   "metadata": {},
   "outputs": [],
   "source": [
    "df_bb[\"income\"] = y_pred_ca = knn_clf.predict(df_ca)\n",
    "df_bc[\"income\"] = y_pred_cb = knn_clf.predict(df_cb)"
   ]
  },
  {
   "cell_type": "code",
   "execution_count": 628,
   "id": "a0fad806-8775-4b49-80a6-f2c77d5d75e7",
   "metadata": {},
   "outputs": [],
   "source": [
    "df_c_result = df_bb.merge(df_bc, on = \"jobexp\")\n",
    "df_c_result = df_c_result.drop([\"group_A_x\",\"group_A_y\"],axis = 1)\n",
    "df_c_result[\"predict income B - A\"] =df_c_result.income_y - df_c_result.income_x"
   ]
  },
  {
   "cell_type": "code",
   "execution_count": 630,
   "id": "726900ef-0e7e-48e0-8cfc-cd4b0e01b51c",
   "metadata": {},
   "outputs": [
    {
     "name": "stderr",
     "output_type": "stream",
     "text": [
      "/home/hs3163/miniconda3/lib/python3.9/site-packages/plotnine/guides/guides.py:187: PlotnineWarning: Cannot generate legend for the 'color' aesthetic. Make sure you have mapped a variable to it\n"
     ]
    },
    {
     "data": {
      "image/png": "[encoded data removed]",
      "text/plain": [
       "<Figure size 900x900 with 1 Axes>"
      ]
     },
     "metadata": {},
     "output_type": "display_data"
    },
    {
     "data": {
      "text/plain": [
       "<ggplot: (2978476858022)>"
      ]
     },
     "execution_count": 630,
     "metadata": {},
     "output_type": "execute_result"
    }
   ],
   "source": [
    "ggplot(df_c_result,aes(x = df_c_result.jobexp, y = df_c_result[\"predict income B - A\"])) + geom_line()+\\\n",
    "  xlab('job exp') + ylab('predicted income')+theme(figure_size = (9, 9))+scale_colour_manual({\"A\":\"red\",\"B\":\"blue\"})+ggtitle(f'KNN: Rsquared = {RsquareKNN}')"
   ]
  },
  {
   "cell_type": "code",
   "execution_count": null,
   "id": "88f0b0fc-e543-432f-bdc8-ee07029843c1",
   "metadata": {},
   "outputs": [
    {
     "ename": "NameError",
     "evalue": "name 'df_cb_minmax' is not defined",
     "output_type": "error",
     "traceback": [
      "\u001b[0;31m---------------------------------------------------------------------------\u001b[0m",
      "\u001b[0;31mNameError\u001b[0m                                 Traceback (most recent call last)",
      "\u001b[0;32m/tmp/2983705.1.high_mem.q/ipykernel_16322/626955288.py\u001b[0m in \u001b[0;36m<module>\u001b[0;34m\u001b[0m\n\u001b[0;32m----> 1\u001b[0;31m \u001b[0mdf_cb_minmax\u001b[0m\u001b[0;34m\u001b[0m\u001b[0;34m\u001b[0m\u001b[0m\n\u001b[0m",
      "\u001b[0;31mNameError\u001b[0m: name 'df_cb_minmax' is not defined"
     ]
    }
   ],
   "source": []
  },
  {
   "cell_type": "code",
   "execution_count": null,
   "id": "ae313caa-bd30-4cbb-b227-08e454970804",
   "metadata": {},
   "outputs": [],
   "source": []
  },
  {
   "cell_type": "code",
   "execution_count": 5,
   "id": "4e7b99e6-cb78-4bc0-b1ee-0175bf5b130d",
   "metadata": {},
   "outputs": [],
   "source": []
  },
  {
   "cell_type": "markdown",
   "id": "d989e83c-dd5e-4dfe-8005-f498600009f3",
   "metadata": {},
   "source": [
    "# 7"
   ]
  },
  {
   "cell_type": "code",
   "execution_count": 228,
   "id": "ce307212-11e1-48f3-9821-da417cc8e3cd",
   "metadata": {},
   "outputs": [],
   "source": [
    "from sklearn.tree import DecisionTreeRegressor, plot_tree\n",
    "import pandas as pd\n",
    "import numpy as np\n",
    "import matplotlib.pyplot as plt\n",
    "import statsmodels.formula.api as smf\n",
    "import scipy\n",
    "from patsy.contrasts import Treatment, Sum\n",
    "from plotnine import *\n",
    "df = pd.read_csv(\"~/income.csv\")"
   ]
  },
  {
   "cell_type": "markdown",
   "id": "29a8f06f-aa2e-44de-81d5-e1ad60d0ccb5",
   "metadata": {
    "tags": []
   },
   "source": [
    "## Q A"
   ]
  },
  {
   "cell_type": "code",
   "execution_count": 510,
   "id": "57fd84f2-a02a-46a3-8d38-0b73a2143711",
   "metadata": {},
   "outputs": [
    {
     "data": {
      "text/html": [
       "<table class=\"simpletable\">\n",
       "<caption>OLS Regression Results</caption>\n",
       "<tr>\n",
       "  <th>Dep. Variable:</th>         <td>income</td>      <th>  R-squared:         </th> <td>   0.830</td> \n",
       "</tr>\n",
       "<tr>\n",
       "  <th>Model:</th>                   <td>OLS</td>       <th>  Adj. R-squared:    </th> <td>   0.829</td> \n",
       "</tr>\n",
       "<tr>\n",
       "  <th>Method:</th>             <td>Least Squares</td>  <th>  F-statistic:       </th> <td>   604.4</td> \n",
       "</tr>\n",
       "<tr>\n",
       "  <th>Date:</th>             <td>Thu, 20 Oct 2022</td> <th>  Prob (F-statistic):</th> <td>6.64e-189</td>\n",
       "</tr>\n",
       "<tr>\n",
       "  <th>Time:</th>                 <td>17:04:35</td>     <th>  Log-Likelihood:    </th> <td> -1363.1</td> \n",
       "</tr>\n",
       "<tr>\n",
       "  <th>No. Observations:</th>      <td>   500</td>      <th>  AIC:               </th> <td>   2736.</td> \n",
       "</tr>\n",
       "<tr>\n",
       "  <th>Df Residuals:</th>          <td>   495</td>      <th>  BIC:               </th> <td>   2757.</td> \n",
       "</tr>\n",
       "<tr>\n",
       "  <th>Df Model:</th>              <td>     4</td>      <th>                     </th>     <td> </td>    \n",
       "</tr>\n",
       "<tr>\n",
       "  <th>Covariance Type:</th>      <td>nonrobust</td>    <th>                     </th>     <td> </td>    \n",
       "</tr>\n",
       "</table>\n",
       "<table class=\"simpletable\">\n",
       "<tr>\n",
       "                    <td></td>                      <th>coef</th>     <th>std err</th>      <th>t</th>      <th>P>|t|</th>  <th>[0.025</th>    <th>0.975]</th>  \n",
       "</tr>\n",
       "<tr>\n",
       "  <th>Intercept</th>                            <td>   -5.5141</td> <td>    0.946</td> <td>   -5.826</td> <td> 0.000</td> <td>   -7.374</td> <td>   -3.655</td>\n",
       "</tr>\n",
       "<tr>\n",
       "  <th>C(group, group_contrast)[T.A]</th>        <td>    0.4687</td> <td>    1.041</td> <td>    0.450</td> <td> 0.653</td> <td>   -1.576</td> <td>    2.513</td>\n",
       "</tr>\n",
       "<tr>\n",
       "  <th>educ</th>                                 <td>    1.8348</td> <td>    0.046</td> <td>   39.595</td> <td> 0.000</td> <td>    1.744</td> <td>    1.926</td>\n",
       "</tr>\n",
       "<tr>\n",
       "  <th>jobexp</th>                               <td>    0.7128</td> <td>    0.040</td> <td>   18.033</td> <td> 0.000</td> <td>    0.635</td> <td>    0.790</td>\n",
       "</tr>\n",
       "<tr>\n",
       "  <th>C(group, group_contrast)[T.A]:jobexp</th> <td>   -0.2556</td> <td>    0.079</td> <td>   -3.251</td> <td> 0.001</td> <td>   -0.410</td> <td>   -0.101</td>\n",
       "</tr>\n",
       "</table>\n",
       "<table class=\"simpletable\">\n",
       "<tr>\n",
       "  <th>Omnibus:</th>       <td>61.592</td> <th>  Durbin-Watson:     </th> <td>   0.171</td>\n",
       "</tr>\n",
       "<tr>\n",
       "  <th>Prob(Omnibus):</th> <td> 0.000</td> <th>  Jarque-Bera (JB):  </th> <td>  82.606</td>\n",
       "</tr>\n",
       "<tr>\n",
       "  <th>Skew:</th>          <td>-0.989</td> <th>  Prob(JB):          </th> <td>1.15e-18</td>\n",
       "</tr>\n",
       "<tr>\n",
       "  <th>Kurtosis:</th>      <td> 2.771</td> <th>  Cond. No.          </th> <td>    142.</td>\n",
       "</tr>\n",
       "</table><br/><br/>Notes:<br/>[1] Standard Errors assume that the covariance matrix of the errors is correctly specified."
      ],
      "text/plain": [
       "<class 'statsmodels.iolib.summary.Summary'>\n",
       "\"\"\"\n",
       "                            OLS Regression Results                            \n",
       "==============================================================================\n",
       "Dep. Variable:                 income   R-squared:                       0.830\n",
       "Model:                            OLS   Adj. R-squared:                  0.829\n",
       "Method:                 Least Squares   F-statistic:                     604.4\n",
       "Date:                Thu, 20 Oct 2022   Prob (F-statistic):          6.64e-189\n",
       "Time:                        17:04:35   Log-Likelihood:                -1363.1\n",
       "No. Observations:                 500   AIC:                             2736.\n",
       "Df Residuals:                     495   BIC:                             2757.\n",
       "Df Model:                           4                                         \n",
       "Covariance Type:            nonrobust                                         \n",
       "========================================================================================================\n",
       "                                           coef    std err          t      P>|t|      [0.025      0.975]\n",
       "--------------------------------------------------------------------------------------------------------\n",
       "Intercept                               -5.5141      0.946     -5.826      0.000      -7.374      -3.655\n",
       "C(group, group_contrast)[T.A]            0.4687      1.041      0.450      0.653      -1.576       2.513\n",
       "educ                                     1.8348      0.046     39.595      0.000       1.744       1.926\n",
       "jobexp                                   0.7128      0.040     18.033      0.000       0.635       0.790\n",
       "C(group, group_contrast)[T.A]:jobexp    -0.2556      0.079     -3.251      0.001      -0.410      -0.101\n",
       "==============================================================================\n",
       "Omnibus:                       61.592   Durbin-Watson:                   0.171\n",
       "Prob(Omnibus):                  0.000   Jarque-Bera (JB):               82.606\n",
       "Skew:                          -0.989   Prob(JB):                     1.15e-18\n",
       "Kurtosis:                       2.771   Cond. No.                         142.\n",
       "==============================================================================\n",
       "\n",
       "Notes:\n",
       "[1] Standard Errors assume that the covariance matrix of the errors is correctly specified.\n",
       "\"\"\""
      ]
     },
     "execution_count": 510,
     "metadata": {},
     "output_type": "execute_result"
    }
   ],
   "source": [
    "group_contrast = Treatment(reference = \"B\").code_without_intercept(['A','B'])\n",
    "lm_smf_res = smf.ols('income ~educ + jobexp  +\\\n",
    "                C( group, group_contrast) + \\\n",
    "                C( group, group_contrast):jobexp',data = df ).fit()\n",
    "lm_smf_res.summary()"
   ]
  },
  {
   "cell_type": "code",
   "execution_count": 511,
   "id": "f8a467db-3dcc-4bbc-a33c-94e042ca9dea",
   "metadata": {},
   "outputs": [
    {
     "data": {
      "text/html": [
       "<div>\n",
       "<style scoped>\n",
       "    .dataframe tbody tr th:only-of-type {\n",
       "        vertical-align: middle;\n",
       "    }\n",
       "\n",
       "    .dataframe tbody tr th {\n",
       "        vertical-align: top;\n",
       "    }\n",
       "\n",
       "    .dataframe thead th {\n",
       "        text-align: right;\n",
       "    }\n",
       "</style>\n",
       "<table border=\"1\" class=\"dataframe\">\n",
       "  <thead>\n",
       "    <tr style=\"text-align: right;\">\n",
       "      <th></th>\n",
       "      <th>income</th>\n",
       "      <th>educ</th>\n",
       "      <th>jobexp</th>\n",
       "      <th>group</th>\n",
       "      <th>group_A</th>\n",
       "    </tr>\n",
       "  </thead>\n",
       "  <tbody>\n",
       "    <tr>\n",
       "      <th>0</th>\n",
       "      <td>5.0</td>\n",
       "      <td>2</td>\n",
       "      <td>9</td>\n",
       "      <td>A</td>\n",
       "      <td>True</td>\n",
       "    </tr>\n",
       "    <tr>\n",
       "      <th>1</th>\n",
       "      <td>9.7</td>\n",
       "      <td>4</td>\n",
       "      <td>18</td>\n",
       "      <td>A</td>\n",
       "      <td>True</td>\n",
       "    </tr>\n",
       "    <tr>\n",
       "      <th>2</th>\n",
       "      <td>28.4</td>\n",
       "      <td>8</td>\n",
       "      <td>21</td>\n",
       "      <td>B</td>\n",
       "      <td>False</td>\n",
       "    </tr>\n",
       "    <tr>\n",
       "      <th>3</th>\n",
       "      <td>8.8</td>\n",
       "      <td>8</td>\n",
       "      <td>12</td>\n",
       "      <td>A</td>\n",
       "      <td>True</td>\n",
       "    </tr>\n",
       "    <tr>\n",
       "      <th>4</th>\n",
       "      <td>21.0</td>\n",
       "      <td>8</td>\n",
       "      <td>14</td>\n",
       "      <td>A</td>\n",
       "      <td>True</td>\n",
       "    </tr>\n",
       "    <tr>\n",
       "      <th>...</th>\n",
       "      <td>...</td>\n",
       "      <td>...</td>\n",
       "      <td>...</td>\n",
       "      <td>...</td>\n",
       "      <td>...</td>\n",
       "    </tr>\n",
       "    <tr>\n",
       "      <th>495</th>\n",
       "      <td>48.3</td>\n",
       "      <td>21</td>\n",
       "      <td>17</td>\n",
       "      <td>B</td>\n",
       "      <td>False</td>\n",
       "    </tr>\n",
       "    <tr>\n",
       "      <th>496</th>\n",
       "      <td>48.3</td>\n",
       "      <td>21</td>\n",
       "      <td>17</td>\n",
       "      <td>B</td>\n",
       "      <td>False</td>\n",
       "    </tr>\n",
       "    <tr>\n",
       "      <th>497</th>\n",
       "      <td>48.3</td>\n",
       "      <td>21</td>\n",
       "      <td>17</td>\n",
       "      <td>B</td>\n",
       "      <td>False</td>\n",
       "    </tr>\n",
       "    <tr>\n",
       "      <th>498</th>\n",
       "      <td>48.3</td>\n",
       "      <td>21</td>\n",
       "      <td>17</td>\n",
       "      <td>B</td>\n",
       "      <td>False</td>\n",
       "    </tr>\n",
       "    <tr>\n",
       "      <th>499</th>\n",
       "      <td>48.3</td>\n",
       "      <td>21</td>\n",
       "      <td>17</td>\n",
       "      <td>B</td>\n",
       "      <td>False</td>\n",
       "    </tr>\n",
       "  </tbody>\n",
       "</table>\n",
       "<p>500 rows × 5 columns</p>\n",
       "</div>"
      ],
      "text/plain": [
       "     income  educ  jobexp group  group_A\n",
       "0       5.0     2       9     A     True\n",
       "1       9.7     4      18     A     True\n",
       "2      28.4     8      21     B    False\n",
       "3       8.8     8      12     A     True\n",
       "4      21.0     8      14     A     True\n",
       "..      ...   ...     ...   ...      ...\n",
       "495    48.3    21      17     B    False\n",
       "496    48.3    21      17     B    False\n",
       "497    48.3    21      17     B    False\n",
       "498    48.3    21      17     B    False\n",
       "499    48.3    21      17     B    False\n",
       "\n",
       "[500 rows x 5 columns]"
      ]
     },
     "execution_count": 511,
     "metadata": {},
     "output_type": "execute_result"
    }
   ],
   "source": [
    "df"
   ]
  },
  {
   "cell_type": "markdown",
   "id": "ff878736-1c71-4830-b2d1-aed781ab1b78",
   "metadata": {},
   "source": [
    "## QA A&B"
   ]
  },
  {
   "cell_type": "code",
   "execution_count": 512,
   "id": "282bb4c7-1845-4515-bb6a-e9df01d1a7d7",
   "metadata": {},
   "outputs": [],
   "source": [
    "df_aa = pd.DataFrame({ \"jobexp\": np.arange(1.0,21.5,0.5) ,\"group\": \"A\", \"educ\" : 18 })\n",
    "df_ab = pd.DataFrame({ \"jobexp\": np.arange(1.0,21.5,0.5) ,\"group\": \"B\", \"educ\" : 18 })"
   ]
  },
  {
   "cell_type": "code",
   "execution_count": null,
   "id": "1913582e-bd5f-4548-8d60-8b9e70ecbf9c",
   "metadata": {},
   "outputs": [],
   "source": []
  },
  {
   "cell_type": "code",
   "execution_count": 513,
   "id": "0f8402c5-4483-464a-97f8-aadab666b3d0",
   "metadata": {},
   "outputs": [],
   "source": [
    "df_aa[\"income\"] =  lm_smf_res.predict(df_aa)\n",
    "df_ab[\"income\"] =  lm_smf_res.predict(df_ab)\n"
   ]
  },
  {
   "cell_type": "markdown",
   "id": "e5ddf011-8595-4a73-afae-6a1ef0091eb7",
   "metadata": {},
   "source": [
    "## QA C"
   ]
  },
  {
   "cell_type": "code",
   "execution_count": null,
   "id": "be727cbe-0775-4538-91ec-574cef714fa1",
   "metadata": {},
   "outputs": [],
   "source": [
    "df_a_result = df_aa.merge(df_ab, on = \"jobexp\")\n",
    "df_a_result = df_a_result.drop([\"group_x\",\"group_y\"],axis = 1)\n",
    "df_a_result[\"predict income B - A\"] =df_a_result.income_y - df_a_result.income_x"
   ]
  },
  {
   "cell_type": "code",
   "execution_count": 269,
   "id": "92ace2b1-1981-4016-b663-7ea8f3566dab",
   "metadata": {},
   "outputs": [],
   "source": [
    "df_a_result = df_aa.merge(df_ab, on = \"jobexp\")\n",
    "df_a_result = df_a_result.drop([\"group_x\",\"group_y\",\"educ_x\",\"educ_y\"],axis = 1)\n",
    "df_a_result[\"predict income B - A\"] =df_a_result.income_y - df_a_result.income_x"
   ]
  },
  {
   "cell_type": "code",
   "execution_count": 270,
   "id": "b4eff3fd-776d-427a-b132-0ee65dcbacb3",
   "metadata": {},
   "outputs": [
    {
     "data": {
      "text/html": [
       "<div>\n",
       "<style scoped>\n",
       "    .dataframe tbody tr th:only-of-type {\n",
       "        vertical-align: middle;\n",
       "    }\n",
       "\n",
       "    .dataframe tbody tr th {\n",
       "        vertical-align: top;\n",
       "    }\n",
       "\n",
       "    .dataframe thead th {\n",
       "        text-align: right;\n",
       "    }\n",
       "</style>\n",
       "<table border=\"1\" class=\"dataframe\">\n",
       "  <thead>\n",
       "    <tr style=\"text-align: right;\">\n",
       "      <th></th>\n",
       "      <th>jobexp</th>\n",
       "      <th>income_x</th>\n",
       "      <th>income_y</th>\n",
       "      <th>predict income B - A</th>\n",
       "    </tr>\n",
       "  </thead>\n",
       "  <tbody>\n",
       "    <tr>\n",
       "      <th>0</th>\n",
       "      <td>1.0</td>\n",
       "      <td>28.437787</td>\n",
       "      <td>28.224713</td>\n",
       "      <td>-0.213075</td>\n",
       "    </tr>\n",
       "    <tr>\n",
       "      <th>1</th>\n",
       "      <td>1.5</td>\n",
       "      <td>28.666389</td>\n",
       "      <td>28.581120</td>\n",
       "      <td>-0.085269</td>\n",
       "    </tr>\n",
       "    <tr>\n",
       "      <th>2</th>\n",
       "      <td>2.0</td>\n",
       "      <td>28.894990</td>\n",
       "      <td>28.937527</td>\n",
       "      <td>0.042537</td>\n",
       "    </tr>\n",
       "    <tr>\n",
       "      <th>3</th>\n",
       "      <td>2.5</td>\n",
       "      <td>29.123591</td>\n",
       "      <td>29.293935</td>\n",
       "      <td>0.170343</td>\n",
       "    </tr>\n",
       "    <tr>\n",
       "      <th>4</th>\n",
       "      <td>3.0</td>\n",
       "      <td>29.352193</td>\n",
       "      <td>29.650342</td>\n",
       "      <td>0.298149</td>\n",
       "    </tr>\n",
       "    <tr>\n",
       "      <th>5</th>\n",
       "      <td>3.5</td>\n",
       "      <td>29.580794</td>\n",
       "      <td>30.006749</td>\n",
       "      <td>0.425955</td>\n",
       "    </tr>\n",
       "    <tr>\n",
       "      <th>6</th>\n",
       "      <td>4.0</td>\n",
       "      <td>29.809396</td>\n",
       "      <td>30.363156</td>\n",
       "      <td>0.553761</td>\n",
       "    </tr>\n",
       "    <tr>\n",
       "      <th>7</th>\n",
       "      <td>4.5</td>\n",
       "      <td>30.037997</td>\n",
       "      <td>30.719564</td>\n",
       "      <td>0.681567</td>\n",
       "    </tr>\n",
       "    <tr>\n",
       "      <th>8</th>\n",
       "      <td>5.0</td>\n",
       "      <td>30.266599</td>\n",
       "      <td>31.075971</td>\n",
       "      <td>0.809372</td>\n",
       "    </tr>\n",
       "    <tr>\n",
       "      <th>9</th>\n",
       "      <td>5.5</td>\n",
       "      <td>30.495200</td>\n",
       "      <td>31.432378</td>\n",
       "      <td>0.937178</td>\n",
       "    </tr>\n",
       "    <tr>\n",
       "      <th>10</th>\n",
       "      <td>6.0</td>\n",
       "      <td>30.723801</td>\n",
       "      <td>31.788785</td>\n",
       "      <td>1.064984</td>\n",
       "    </tr>\n",
       "    <tr>\n",
       "      <th>11</th>\n",
       "      <td>6.5</td>\n",
       "      <td>30.952403</td>\n",
       "      <td>32.145193</td>\n",
       "      <td>1.192790</td>\n",
       "    </tr>\n",
       "    <tr>\n",
       "      <th>12</th>\n",
       "      <td>7.0</td>\n",
       "      <td>31.181004</td>\n",
       "      <td>32.501600</td>\n",
       "      <td>1.320596</td>\n",
       "    </tr>\n",
       "    <tr>\n",
       "      <th>13</th>\n",
       "      <td>7.5</td>\n",
       "      <td>31.409606</td>\n",
       "      <td>32.858007</td>\n",
       "      <td>1.448402</td>\n",
       "    </tr>\n",
       "    <tr>\n",
       "      <th>14</th>\n",
       "      <td>8.0</td>\n",
       "      <td>31.638207</td>\n",
       "      <td>33.214415</td>\n",
       "      <td>1.576208</td>\n",
       "    </tr>\n",
       "    <tr>\n",
       "      <th>15</th>\n",
       "      <td>8.5</td>\n",
       "      <td>31.866808</td>\n",
       "      <td>33.570822</td>\n",
       "      <td>1.704013</td>\n",
       "    </tr>\n",
       "    <tr>\n",
       "      <th>16</th>\n",
       "      <td>9.0</td>\n",
       "      <td>32.095410</td>\n",
       "      <td>33.927229</td>\n",
       "      <td>1.831819</td>\n",
       "    </tr>\n",
       "    <tr>\n",
       "      <th>17</th>\n",
       "      <td>9.5</td>\n",
       "      <td>32.324011</td>\n",
       "      <td>34.283636</td>\n",
       "      <td>1.959625</td>\n",
       "    </tr>\n",
       "    <tr>\n",
       "      <th>18</th>\n",
       "      <td>10.0</td>\n",
       "      <td>32.552613</td>\n",
       "      <td>34.640044</td>\n",
       "      <td>2.087431</td>\n",
       "    </tr>\n",
       "    <tr>\n",
       "      <th>19</th>\n",
       "      <td>10.5</td>\n",
       "      <td>32.781214</td>\n",
       "      <td>34.996451</td>\n",
       "      <td>2.215237</td>\n",
       "    </tr>\n",
       "    <tr>\n",
       "      <th>20</th>\n",
       "      <td>11.0</td>\n",
       "      <td>33.009815</td>\n",
       "      <td>35.352858</td>\n",
       "      <td>2.343043</td>\n",
       "    </tr>\n",
       "    <tr>\n",
       "      <th>21</th>\n",
       "      <td>11.5</td>\n",
       "      <td>33.238417</td>\n",
       "      <td>35.709265</td>\n",
       "      <td>2.470849</td>\n",
       "    </tr>\n",
       "    <tr>\n",
       "      <th>22</th>\n",
       "      <td>12.0</td>\n",
       "      <td>33.467018</td>\n",
       "      <td>36.065673</td>\n",
       "      <td>2.598654</td>\n",
       "    </tr>\n",
       "    <tr>\n",
       "      <th>23</th>\n",
       "      <td>12.5</td>\n",
       "      <td>33.695620</td>\n",
       "      <td>36.422080</td>\n",
       "      <td>2.726460</td>\n",
       "    </tr>\n",
       "    <tr>\n",
       "      <th>24</th>\n",
       "      <td>13.0</td>\n",
       "      <td>33.924221</td>\n",
       "      <td>36.778487</td>\n",
       "      <td>2.854266</td>\n",
       "    </tr>\n",
       "    <tr>\n",
       "      <th>25</th>\n",
       "      <td>13.5</td>\n",
       "      <td>34.152823</td>\n",
       "      <td>37.134895</td>\n",
       "      <td>2.982072</td>\n",
       "    </tr>\n",
       "    <tr>\n",
       "      <th>26</th>\n",
       "      <td>14.0</td>\n",
       "      <td>34.381424</td>\n",
       "      <td>37.491302</td>\n",
       "      <td>3.109878</td>\n",
       "    </tr>\n",
       "    <tr>\n",
       "      <th>27</th>\n",
       "      <td>14.5</td>\n",
       "      <td>34.610025</td>\n",
       "      <td>37.847709</td>\n",
       "      <td>3.237684</td>\n",
       "    </tr>\n",
       "    <tr>\n",
       "      <th>28</th>\n",
       "      <td>15.0</td>\n",
       "      <td>34.838627</td>\n",
       "      <td>38.204116</td>\n",
       "      <td>3.365490</td>\n",
       "    </tr>\n",
       "    <tr>\n",
       "      <th>29</th>\n",
       "      <td>15.5</td>\n",
       "      <td>35.067228</td>\n",
       "      <td>38.560524</td>\n",
       "      <td>3.493295</td>\n",
       "    </tr>\n",
       "    <tr>\n",
       "      <th>30</th>\n",
       "      <td>16.0</td>\n",
       "      <td>35.295830</td>\n",
       "      <td>38.916931</td>\n",
       "      <td>3.621101</td>\n",
       "    </tr>\n",
       "    <tr>\n",
       "      <th>31</th>\n",
       "      <td>16.5</td>\n",
       "      <td>35.524431</td>\n",
       "      <td>39.273338</td>\n",
       "      <td>3.748907</td>\n",
       "    </tr>\n",
       "    <tr>\n",
       "      <th>32</th>\n",
       "      <td>17.0</td>\n",
       "      <td>35.753032</td>\n",
       "      <td>39.629745</td>\n",
       "      <td>3.876713</td>\n",
       "    </tr>\n",
       "    <tr>\n",
       "      <th>33</th>\n",
       "      <td>17.5</td>\n",
       "      <td>35.981634</td>\n",
       "      <td>39.986153</td>\n",
       "      <td>4.004519</td>\n",
       "    </tr>\n",
       "    <tr>\n",
       "      <th>34</th>\n",
       "      <td>18.0</td>\n",
       "      <td>36.210235</td>\n",
       "      <td>40.342560</td>\n",
       "      <td>4.132325</td>\n",
       "    </tr>\n",
       "    <tr>\n",
       "      <th>35</th>\n",
       "      <td>18.5</td>\n",
       "      <td>36.438837</td>\n",
       "      <td>40.698967</td>\n",
       "      <td>4.260131</td>\n",
       "    </tr>\n",
       "    <tr>\n",
       "      <th>36</th>\n",
       "      <td>19.0</td>\n",
       "      <td>36.667438</td>\n",
       "      <td>41.055375</td>\n",
       "      <td>4.387937</td>\n",
       "    </tr>\n",
       "    <tr>\n",
       "      <th>37</th>\n",
       "      <td>19.5</td>\n",
       "      <td>36.896039</td>\n",
       "      <td>41.411782</td>\n",
       "      <td>4.515742</td>\n",
       "    </tr>\n",
       "    <tr>\n",
       "      <th>38</th>\n",
       "      <td>20.0</td>\n",
       "      <td>37.124641</td>\n",
       "      <td>41.768189</td>\n",
       "      <td>4.643548</td>\n",
       "    </tr>\n",
       "    <tr>\n",
       "      <th>39</th>\n",
       "      <td>20.5</td>\n",
       "      <td>37.353242</td>\n",
       "      <td>42.124596</td>\n",
       "      <td>4.771354</td>\n",
       "    </tr>\n",
       "    <tr>\n",
       "      <th>40</th>\n",
       "      <td>21.0</td>\n",
       "      <td>37.581844</td>\n",
       "      <td>42.481004</td>\n",
       "      <td>4.899160</td>\n",
       "    </tr>\n",
       "  </tbody>\n",
       "</table>\n",
       "</div>"
      ],
      "text/plain": [
       "    jobexp   income_x   income_y  predict income B - A\n",
       "0      1.0  28.437787  28.224713             -0.213075\n",
       "1      1.5  28.666389  28.581120             -0.085269\n",
       "2      2.0  28.894990  28.937527              0.042537\n",
       "3      2.5  29.123591  29.293935              0.170343\n",
       "4      3.0  29.352193  29.650342              0.298149\n",
       "5      3.5  29.580794  30.006749              0.425955\n",
       "6      4.0  29.809396  30.363156              0.553761\n",
       "7      4.5  30.037997  30.719564              0.681567\n",
       "8      5.0  30.266599  31.075971              0.809372\n",
       "9      5.5  30.495200  31.432378              0.937178\n",
       "10     6.0  30.723801  31.788785              1.064984\n",
       "11     6.5  30.952403  32.145193              1.192790\n",
       "12     7.0  31.181004  32.501600              1.320596\n",
       "13     7.5  31.409606  32.858007              1.448402\n",
       "14     8.0  31.638207  33.214415              1.576208\n",
       "15     8.5  31.866808  33.570822              1.704013\n",
       "16     9.0  32.095410  33.927229              1.831819\n",
       "17     9.5  32.324011  34.283636              1.959625\n",
       "18    10.0  32.552613  34.640044              2.087431\n",
       "19    10.5  32.781214  34.996451              2.215237\n",
       "20    11.0  33.009815  35.352858              2.343043\n",
       "21    11.5  33.238417  35.709265              2.470849\n",
       "22    12.0  33.467018  36.065673              2.598654\n",
       "23    12.5  33.695620  36.422080              2.726460\n",
       "24    13.0  33.924221  36.778487              2.854266\n",
       "25    13.5  34.152823  37.134895              2.982072\n",
       "26    14.0  34.381424  37.491302              3.109878\n",
       "27    14.5  34.610025  37.847709              3.237684\n",
       "28    15.0  34.838627  38.204116              3.365490\n",
       "29    15.5  35.067228  38.560524              3.493295\n",
       "30    16.0  35.295830  38.916931              3.621101\n",
       "31    16.5  35.524431  39.273338              3.748907\n",
       "32    17.0  35.753032  39.629745              3.876713\n",
       "33    17.5  35.981634  39.986153              4.004519\n",
       "34    18.0  36.210235  40.342560              4.132325\n",
       "35    18.5  36.438837  40.698967              4.260131\n",
       "36    19.0  36.667438  41.055375              4.387937\n",
       "37    19.5  36.896039  41.411782              4.515742\n",
       "38    20.0  37.124641  41.768189              4.643548\n",
       "39    20.5  37.353242  42.124596              4.771354\n",
       "40    21.0  37.581844  42.481004              4.899160"
      ]
     },
     "execution_count": 516,
     "metadata": {},
     "output_type": "execute_result"
    }
   ],
   "source": [
    "df_a_result"
   ]
  },
  {
   "cell_type": "code",
   "execution_count": 271,
   "id": "24e9ae61-51d9-4557-9bb1-d3cda3f95b50",
   "metadata": {},
   "outputs": [],
   "source": [
    "df_a_result.columns = [\"jobexp\",\"predicted income A\",\"predicted income B\",\"predict income B - A\" ]"
   ]
  },
  {
   "cell_type": "code",
   "execution_count": 14,
   "id": "dabaa867-d22d-41a9-aa93-fe7e9a5c60a1",
   "metadata": {},
   "outputs": [],
   "source": [
    "df_a_result.to_csv(\"~/a_result.csv\")"
   ]
  },
  {
   "cell_type": "code",
   "execution_count": 505,
   "id": "41bf17d1-d2ca-40b2-a342-e6bafbfa0d3b",
   "metadata": {},
   "outputs": [
    {
     "data": {
      "image/png": "[encoded data removed]",
      "text/plain": [
       "<Figure size 900x900 with 1 Axes>"
      ]
     },
     "metadata": {},
     "output_type": "display_data"
    },
    {
     "data": {
      "text/plain": [
       "<ggplot: (2978477690356)>"
      ]
     },
     "execution_count": 518,
     "metadata": {},
     "output_type": "execute_result"
    }
   ],
   "source": [
    "df_ac = pd.concat([df_aa,df_ab])\n",
    "ggplot(df_ac,aes(x = df_ac.jobexp, y = df_ac.income, color = df_ac.group)) + geom_line()+\\\n",
    "  xlab('job exp') + ylab('predicted income')+theme(figure_size = (9, 9))+scale_colour_manual({\"A\":\"red\",\"B\":\"blue\"}) +geom_point( df , aes(x = df.jobexp, y = df.income, color = df.group ))\n",
    "\n"
   ]
  },
  {
   "cell_type": "code",
   "execution_count": 504,
   "id": "8f039b97-dc03-42ab-8708-ffb47d240b27",
   "metadata": {},
   "outputs": [
    {
     "data": {
      "text/plain": [
       "<plotnine.geoms.geom_point.geom_point at 0x2b57b228dd00>"
      ]
     },
     "execution_count": 504,
     "metadata": {},
     "output_type": "execute_result"
    }
   ],
   "source": []
  },
  {
   "cell_type": "code",
   "execution_count": 273,
   "id": "9742822c-c4cd-4e47-b4a6-1cedb68d0a21",
   "metadata": {},
   "outputs": [
    {
     "name": "stderr",
     "output_type": "stream",
     "text": [
      "/home/hs3163/miniconda3/lib/python3.9/site-packages/plotnine/guides/guides.py:187: PlotnineWarning: Cannot generate legend for the 'color' aesthetic. Make sure you have mapped a variable to it\n"
     ]
    },
    {
     "data": {
      "image/png": "[encoded data removed]",
      "text/plain": [
       "<Figure size 900x900 with 1 Axes>"
      ]
     },
     "metadata": {},
     "output_type": "display_data"
    },
    {
     "data": {
      "text/plain": [
       "<ggplot: (2978478117413)>"
      ]
     },
     "execution_count": 519,
     "metadata": {},
     "output_type": "execute_result"
    }
   ],
   "source": [
    "ggplot(df_a_result,aes(x = df_a_result.jobexp, y = df_a_result[\"predict income B - A\"])) + geom_line()+\\\n",
    "  xlab('job exp') + ylab('predicted income B-A')+theme(figure_size = (9, 9))+scale_colour_manual({\"A\":\"red\",\"B\":\"blue\"})+ggtitle(f'LM: Rsquared = {lm_smf_res.rsquared}')"
   ]
  },
  {
   "cell_type": "code",
   "execution_count": null,
   "id": "05bed046-4a9c-421a-8f70-178c5ce29aee",
   "metadata": {},
   "outputs": [],
   "source": []
  },
  {
   "cell_type": "markdown",
   "id": "650a3ba6-1c59-467d-8fd6-5b114688cd24",
   "metadata": {},
   "source": [
    "## Q B"
   ]
  },
  {
   "cell_type": "markdown",
   "id": "70aefe4f-3241-4e80-8828-1cea9590f59a",
   "metadata": {},
   "source": [
    "Since sklearn cannot handle string variable, convert the group variable into whether the student is in group A"
   ]
  },
  {
   "cell_type": "code",
   "execution_count": 241,
   "id": "5fd373d6-a219-4672-ae48-719c85d7ef9e",
   "metadata": {},
   "outputs": [],
   "source": [
    "df[\"group_A\"] = [x == \"A\" for x in df.group]"
   ]
  },
  {
   "cell_type": "code",
   "execution_count": 246,
   "id": "0a15a49f-f016-40a7-b039-2732cb69df64",
   "metadata": {},
   "outputs": [],
   "source": [
    "tree = DecisionTreeRegressor(criterion = 'squared_error', max_depth = 2, max_leaf_nodes = 10).fit(df[[\"educ\",\"jobexp\",\"group_A\"]],df[[\"income\"]])"
   ]
  },
  {
   "cell_type": "code",
   "execution_count": 244,
   "id": "8be10c5d-8af3-4cd2-a844-e6f10999bf57",
   "metadata": {},
   "outputs": [
    {
     "data": {
      "text/html": [
       "<div>\n",
       "<style scoped>\n",
       "    .dataframe tbody tr th:only-of-type {\n",
       "        vertical-align: middle;\n",
       "    }\n",
       "\n",
       "    .dataframe tbody tr th {\n",
       "        vertical-align: top;\n",
       "    }\n",
       "\n",
       "    .dataframe thead th {\n",
       "        text-align: right;\n",
       "    }\n",
       "</style>\n",
       "<table border=\"1\" class=\"dataframe\">\n",
       "  <thead>\n",
       "    <tr style=\"text-align: right;\">\n",
       "      <th></th>\n",
       "      <th>income</th>\n",
       "      <th>educ</th>\n",
       "      <th>jobexp</th>\n",
       "      <th>group</th>\n",
       "      <th>group_A</th>\n",
       "    </tr>\n",
       "  </thead>\n",
       "  <tbody>\n",
       "    <tr>\n",
       "      <th>0</th>\n",
       "      <td>5.0</td>\n",
       "      <td>2</td>\n",
       "      <td>9</td>\n",
       "      <td>A</td>\n",
       "      <td>True</td>\n",
       "    </tr>\n",
       "    <tr>\n",
       "      <th>1</th>\n",
       "      <td>9.7</td>\n",
       "      <td>4</td>\n",
       "      <td>18</td>\n",
       "      <td>A</td>\n",
       "      <td>True</td>\n",
       "    </tr>\n",
       "    <tr>\n",
       "      <th>2</th>\n",
       "      <td>28.4</td>\n",
       "      <td>8</td>\n",
       "      <td>21</td>\n",
       "      <td>B</td>\n",
       "      <td>False</td>\n",
       "    </tr>\n",
       "    <tr>\n",
       "      <th>3</th>\n",
       "      <td>8.8</td>\n",
       "      <td>8</td>\n",
       "      <td>12</td>\n",
       "      <td>A</td>\n",
       "      <td>True</td>\n",
       "    </tr>\n",
       "    <tr>\n",
       "      <th>4</th>\n",
       "      <td>21.0</td>\n",
       "      <td>8</td>\n",
       "      <td>14</td>\n",
       "      <td>A</td>\n",
       "      <td>True</td>\n",
       "    </tr>\n",
       "    <tr>\n",
       "      <th>...</th>\n",
       "      <td>...</td>\n",
       "      <td>...</td>\n",
       "      <td>...</td>\n",
       "      <td>...</td>\n",
       "      <td>...</td>\n",
       "    </tr>\n",
       "    <tr>\n",
       "      <th>495</th>\n",
       "      <td>48.3</td>\n",
       "      <td>21</td>\n",
       "      <td>17</td>\n",
       "      <td>B</td>\n",
       "      <td>False</td>\n",
       "    </tr>\n",
       "    <tr>\n",
       "      <th>496</th>\n",
       "      <td>48.3</td>\n",
       "      <td>21</td>\n",
       "      <td>17</td>\n",
       "      <td>B</td>\n",
       "      <td>False</td>\n",
       "    </tr>\n",
       "    <tr>\n",
       "      <th>497</th>\n",
       "      <td>48.3</td>\n",
       "      <td>21</td>\n",
       "      <td>17</td>\n",
       "      <td>B</td>\n",
       "      <td>False</td>\n",
       "    </tr>\n",
       "    <tr>\n",
       "      <th>498</th>\n",
       "      <td>48.3</td>\n",
       "      <td>21</td>\n",
       "      <td>17</td>\n",
       "      <td>B</td>\n",
       "      <td>False</td>\n",
       "    </tr>\n",
       "    <tr>\n",
       "      <th>499</th>\n",
       "      <td>48.3</td>\n",
       "      <td>21</td>\n",
       "      <td>17</td>\n",
       "      <td>B</td>\n",
       "      <td>False</td>\n",
       "    </tr>\n",
       "  </tbody>\n",
       "</table>\n",
       "<p>500 rows × 5 columns</p>\n",
       "</div>"
      ],
      "text/plain": [
       "     income  educ  jobexp group  group_A\n",
       "0       5.0     2       9     A     True\n",
       "1       9.7     4      18     A     True\n",
       "2      28.4     8      21     B    False\n",
       "3       8.8     8      12     A     True\n",
       "4      21.0     8      14     A     True\n",
       "..      ...   ...     ...   ...      ...\n",
       "495    48.3    21      17     B    False\n",
       "496    48.3    21      17     B    False\n",
       "497    48.3    21      17     B    False\n",
       "498    48.3    21      17     B    False\n",
       "499    48.3    21      17     B    False\n",
       "\n",
       "[500 rows x 5 columns]"
      ]
     },
     "execution_count": 244,
     "metadata": {},
     "output_type": "execute_result"
    }
   ],
   "source": [
    "df"
   ]
  },
  {
   "cell_type": "markdown",
   "id": "87e2b957-2a30-4862-8eea-730707e76d66",
   "metadata": {},
   "source": [
    "### Q B.A"
   ]
  },
  {
   "cell_type": "code",
   "execution_count": 247,
   "id": "78a2fd0d-aff1-4e21-90a7-6eb76b07b48c",
   "metadata": {},
   "outputs": [
    {
     "data": {
      "image/png": "[encoded data removed]",
      "text/plain": [
       "<Figure size 864x864 with 1 Axes>"
      ]
     },
     "metadata": {
      "needs_background": "light"
     },
     "output_type": "display_data"
    }
   ],
   "source": [
    "plt.figure(figsize=(12,12))  # set plot size (denoted in inches)\n",
    "plot_tree(tree,fontsize=10)\n",
    "plt.show()"
   ]
  },
  {
   "cell_type": "code",
   "execution_count": 248,
   "id": "22de1681-3e0a-462c-9742-a7c2ae2e3b7e",
   "metadata": {},
   "outputs": [
    {
     "data": {
      "text/plain": [
       "DecisionTreeRegressor(max_depth=2, max_leaf_nodes=10)"
      ]
     },
     "execution_count": 248,
     "metadata": {},
     "output_type": "execute_result"
    }
   ],
   "source": [
    "tree"
   ]
  },
  {
   "cell_type": "markdown",
   "id": "d349bb4b-0db8-4c13-9c7a-2fca0c0d85d7",
   "metadata": {},
   "source": [
    "### QB.B\n"
   ]
  },
  {
   "cell_type": "code",
   "execution_count": 249,
   "id": "be050916-1414-4f40-a868-d679798262bf",
   "metadata": {},
   "outputs": [],
   "source": [
    "df_bb = pd.DataFrame({ \"jobexp\": np.arange(1.0,21.5,0.5) ,\"group_A\": True,\"educ\" : 18 })"
   ]
  },
  {
   "cell_type": "code",
   "execution_count": 250,
   "id": "806b3587-dbb1-41d9-bc14-135680a3c831",
   "metadata": {},
   "outputs": [
    {
     "name": "stderr",
     "output_type": "stream",
     "text": [
      "/home/hs3163/miniconda3/lib/python3.9/site-packages/sklearn/base.py:493: FutureWarning: The feature names should match those that were passed during fit. Starting version 1.2, an error will be raised.\n",
      "Feature names must be in the same order as they were in fit.\n",
      "\n"
     ]
    }
   ],
   "source": [
    "income_pred_bb = tree.predict(df_bb)"
   ]
  },
  {
   "cell_type": "code",
   "execution_count": 251,
   "id": "36d293a9-989b-4fa3-b806-9f59865ca348",
   "metadata": {},
   "outputs": [
    {
     "data": {
      "text/plain": [
       "array([ 7.35      ,  7.35      ,  7.35      ,  7.35      ,  7.35      ,\n",
       "        7.35      ,  7.35      ,  7.35      ,  7.35      ,  7.35      ,\n",
       "        7.35      , 24.9       , 24.9       , 24.9       , 24.9       ,\n",
       "       24.9       , 24.9       , 24.9       , 24.9       , 24.9       ,\n",
       "       24.9       , 24.9       , 24.9       , 24.9       , 24.9       ,\n",
       "       24.9       , 24.9       , 24.9       , 24.9       , 24.9       ,\n",
       "       34.45555556, 34.45555556, 34.45555556, 34.45555556, 34.45555556,\n",
       "       34.45555556, 34.45555556, 48.3       , 48.3       , 48.3       ,\n",
       "       48.3       ])"
      ]
     },
     "execution_count": 251,
     "metadata": {},
     "output_type": "execute_result"
    }
   ],
   "source": [
    "income_pred_bb"
   ]
  },
  {
   "cell_type": "markdown",
   "id": "fb08a6b4-399a-43a0-a2da-8642ed14c6aa",
   "metadata": {},
   "source": [
    "### QB.C"
   ]
  },
  {
   "cell_type": "code",
   "execution_count": 252,
   "id": "48a9de9f-7f3f-4b5b-9332-aeaf4f71597c",
   "metadata": {},
   "outputs": [
    {
     "name": "stderr",
     "output_type": "stream",
     "text": [
      "/home/hs3163/miniconda3/lib/python3.9/site-packages/sklearn/base.py:493: FutureWarning: The feature names should match those that were passed during fit. Starting version 1.2, an error will be raised.\n",
      "Feature names must be in the same order as they were in fit.\n",
      "\n"
     ]
    }
   ],
   "source": [
    "df_bc = pd.DataFrame({ \"jobexp\": np.arange(1.0,21.5,0.5) ,\"group_A\": False,\"educ\" : 18 })\n",
    "income_pred_bc = tree.predict(df_bc)"
   ]
  },
  {
   "cell_type": "code",
   "execution_count": 253,
   "id": "c3bc92d3-5067-463d-9685-f0b8ff87328b",
   "metadata": {},
   "outputs": [
    {
     "data": {
      "text/plain": [
       "array([ 7.35      ,  7.35      ,  7.35      ,  7.35      ,  7.35      ,\n",
       "        7.35      ,  7.35      ,  7.35      ,  7.35      ,  7.35      ,\n",
       "        7.35      , 24.9       , 24.9       , 24.9       , 24.9       ,\n",
       "       24.9       , 24.9       , 24.9       , 24.9       , 24.9       ,\n",
       "       24.9       , 24.9       , 24.9       , 24.9       , 24.9       ,\n",
       "       24.9       , 24.9       , 24.9       , 24.9       , 24.9       ,\n",
       "       34.45555556, 34.45555556, 34.45555556, 34.45555556, 34.45555556,\n",
       "       34.45555556, 34.45555556, 48.3       , 48.3       , 48.3       ,\n",
       "       48.3       ])"
      ]
     },
     "execution_count": 253,
     "metadata": {},
     "output_type": "execute_result"
    }
   ],
   "source": [
    "income_pred_bc"
   ]
  },
  {
   "cell_type": "markdown",
   "id": "48d9534e-ec20-4885-9b8b-35de32bc7371",
   "metadata": {},
   "source": [
    "### QB.D"
   ]
  },
  {
   "cell_type": "code",
   "execution_count": 254,
   "id": "aec45bb9-6cfe-43df-a46f-ca5547bd7997",
   "metadata": {},
   "outputs": [],
   "source": [
    "df_bb[\"income\"] = income_pred_bb\n",
    "df_bc[\"income\"] = income_pred_bc"
   ]
  },
  {
   "cell_type": "code",
   "execution_count": null,
   "id": "f981fc07-130e-4d69-9400-2f3fa7219005",
   "metadata": {},
   "outputs": [],
   "source": []
  },
  {
   "cell_type": "code",
   "execution_count": null,
   "id": "8dcd73d6-a805-4422-82ea-403f1aa86d98",
   "metadata": {},
   "outputs": [],
   "source": []
  },
  {
   "cell_type": "code",
   "execution_count": 274,
   "id": "3d22f77f-96cf-4fc9-87a1-2f091de05c94",
   "metadata": {},
   "outputs": [],
   "source": [
    "df_b_result = df_bb.merge(df_bc, on = \"jobexp\")\n",
    "df_b_result = df_b_result.drop([\"group_A_x\",\"group_A_y\",\"educ_x\",\"educ_y\"],axis = 1)\n",
    "df_b_result[\"predict income B - A\"] =df_b_result.income_y - df_b_result.income_x"
   ]
  },
  {
   "cell_type": "code",
   "execution_count": 275,
   "id": "3c8f5f18-c49a-4d75-b173-a6bf69552bdc",
   "metadata": {},
   "outputs": [
    {
     "data": {
      "text/html": [
       "<div>\n",
       "<style scoped>\n",
       "    .dataframe tbody tr th:only-of-type {\n",
       "        vertical-align: middle;\n",
       "    }\n",
       "\n",
       "    .dataframe tbody tr th {\n",
       "        vertical-align: top;\n",
       "    }\n",
       "\n",
       "    .dataframe thead th {\n",
       "        text-align: right;\n",
       "    }\n",
       "</style>\n",
       "<table border=\"1\" class=\"dataframe\">\n",
       "  <thead>\n",
       "    <tr style=\"text-align: right;\">\n",
       "      <th></th>\n",
       "      <th>jobexp</th>\n",
       "      <th>income_x</th>\n",
       "      <th>income_y</th>\n",
       "      <th>predict income B - A</th>\n",
       "    </tr>\n",
       "  </thead>\n",
       "  <tbody>\n",
       "    <tr>\n",
       "      <th>0</th>\n",
       "      <td>1.0</td>\n",
       "      <td>7.350000</td>\n",
       "      <td>7.350000</td>\n",
       "      <td>0.0</td>\n",
       "    </tr>\n",
       "    <tr>\n",
       "      <th>1</th>\n",
       "      <td>1.5</td>\n",
       "      <td>7.350000</td>\n",
       "      <td>7.350000</td>\n",
       "      <td>0.0</td>\n",
       "    </tr>\n",
       "    <tr>\n",
       "      <th>2</th>\n",
       "      <td>2.0</td>\n",
       "      <td>7.350000</td>\n",
       "      <td>7.350000</td>\n",
       "      <td>0.0</td>\n",
       "    </tr>\n",
       "    <tr>\n",
       "      <th>3</th>\n",
       "      <td>2.5</td>\n",
       "      <td>7.350000</td>\n",
       "      <td>7.350000</td>\n",
       "      <td>0.0</td>\n",
       "    </tr>\n",
       "    <tr>\n",
       "      <th>4</th>\n",
       "      <td>3.0</td>\n",
       "      <td>7.350000</td>\n",
       "      <td>7.350000</td>\n",
       "      <td>0.0</td>\n",
       "    </tr>\n",
       "    <tr>\n",
       "      <th>5</th>\n",
       "      <td>3.5</td>\n",
       "      <td>7.350000</td>\n",
       "      <td>7.350000</td>\n",
       "      <td>0.0</td>\n",
       "    </tr>\n",
       "    <tr>\n",
       "      <th>6</th>\n",
       "      <td>4.0</td>\n",
       "      <td>7.350000</td>\n",
       "      <td>7.350000</td>\n",
       "      <td>0.0</td>\n",
       "    </tr>\n",
       "    <tr>\n",
       "      <th>7</th>\n",
       "      <td>4.5</td>\n",
       "      <td>7.350000</td>\n",
       "      <td>7.350000</td>\n",
       "      <td>0.0</td>\n",
       "    </tr>\n",
       "    <tr>\n",
       "      <th>8</th>\n",
       "      <td>5.0</td>\n",
       "      <td>7.350000</td>\n",
       "      <td>7.350000</td>\n",
       "      <td>0.0</td>\n",
       "    </tr>\n",
       "    <tr>\n",
       "      <th>9</th>\n",
       "      <td>5.5</td>\n",
       "      <td>7.350000</td>\n",
       "      <td>7.350000</td>\n",
       "      <td>0.0</td>\n",
       "    </tr>\n",
       "    <tr>\n",
       "      <th>10</th>\n",
       "      <td>6.0</td>\n",
       "      <td>7.350000</td>\n",
       "      <td>7.350000</td>\n",
       "      <td>0.0</td>\n",
       "    </tr>\n",
       "    <tr>\n",
       "      <th>11</th>\n",
       "      <td>6.5</td>\n",
       "      <td>24.900000</td>\n",
       "      <td>24.900000</td>\n",
       "      <td>0.0</td>\n",
       "    </tr>\n",
       "    <tr>\n",
       "      <th>12</th>\n",
       "      <td>7.0</td>\n",
       "      <td>24.900000</td>\n",
       "      <td>24.900000</td>\n",
       "      <td>0.0</td>\n",
       "    </tr>\n",
       "    <tr>\n",
       "      <th>13</th>\n",
       "      <td>7.5</td>\n",
       "      <td>24.900000</td>\n",
       "      <td>24.900000</td>\n",
       "      <td>0.0</td>\n",
       "    </tr>\n",
       "    <tr>\n",
       "      <th>14</th>\n",
       "      <td>8.0</td>\n",
       "      <td>24.900000</td>\n",
       "      <td>24.900000</td>\n",
       "      <td>0.0</td>\n",
       "    </tr>\n",
       "    <tr>\n",
       "      <th>15</th>\n",
       "      <td>8.5</td>\n",
       "      <td>24.900000</td>\n",
       "      <td>24.900000</td>\n",
       "      <td>0.0</td>\n",
       "    </tr>\n",
       "    <tr>\n",
       "      <th>16</th>\n",
       "      <td>9.0</td>\n",
       "      <td>24.900000</td>\n",
       "      <td>24.900000</td>\n",
       "      <td>0.0</td>\n",
       "    </tr>\n",
       "    <tr>\n",
       "      <th>17</th>\n",
       "      <td>9.5</td>\n",
       "      <td>24.900000</td>\n",
       "      <td>24.900000</td>\n",
       "      <td>0.0</td>\n",
       "    </tr>\n",
       "    <tr>\n",
       "      <th>18</th>\n",
       "      <td>10.0</td>\n",
       "      <td>24.900000</td>\n",
       "      <td>24.900000</td>\n",
       "      <td>0.0</td>\n",
       "    </tr>\n",
       "    <tr>\n",
       "      <th>19</th>\n",
       "      <td>10.5</td>\n",
       "      <td>24.900000</td>\n",
       "      <td>24.900000</td>\n",
       "      <td>0.0</td>\n",
       "    </tr>\n",
       "    <tr>\n",
       "      <th>20</th>\n",
       "      <td>11.0</td>\n",
       "      <td>24.900000</td>\n",
       "      <td>24.900000</td>\n",
       "      <td>0.0</td>\n",
       "    </tr>\n",
       "    <tr>\n",
       "      <th>21</th>\n",
       "      <td>11.5</td>\n",
       "      <td>24.900000</td>\n",
       "      <td>24.900000</td>\n",
       "      <td>0.0</td>\n",
       "    </tr>\n",
       "    <tr>\n",
       "      <th>22</th>\n",
       "      <td>12.0</td>\n",
       "      <td>24.900000</td>\n",
       "      <td>24.900000</td>\n",
       "      <td>0.0</td>\n",
       "    </tr>\n",
       "    <tr>\n",
       "      <th>23</th>\n",
       "      <td>12.5</td>\n",
       "      <td>24.900000</td>\n",
       "      <td>24.900000</td>\n",
       "      <td>0.0</td>\n",
       "    </tr>\n",
       "    <tr>\n",
       "      <th>24</th>\n",
       "      <td>13.0</td>\n",
       "      <td>24.900000</td>\n",
       "      <td>24.900000</td>\n",
       "      <td>0.0</td>\n",
       "    </tr>\n",
       "    <tr>\n",
       "      <th>25</th>\n",
       "      <td>13.5</td>\n",
       "      <td>24.900000</td>\n",
       "      <td>24.900000</td>\n",
       "      <td>0.0</td>\n",
       "    </tr>\n",
       "    <tr>\n",
       "      <th>26</th>\n",
       "      <td>14.0</td>\n",
       "      <td>24.900000</td>\n",
       "      <td>24.900000</td>\n",
       "      <td>0.0</td>\n",
       "    </tr>\n",
       "    <tr>\n",
       "      <th>27</th>\n",
       "      <td>14.5</td>\n",
       "      <td>24.900000</td>\n",
       "      <td>24.900000</td>\n",
       "      <td>0.0</td>\n",
       "    </tr>\n",
       "    <tr>\n",
       "      <th>28</th>\n",
       "      <td>15.0</td>\n",
       "      <td>24.900000</td>\n",
       "      <td>24.900000</td>\n",
       "      <td>0.0</td>\n",
       "    </tr>\n",
       "    <tr>\n",
       "      <th>29</th>\n",
       "      <td>15.5</td>\n",
       "      <td>24.900000</td>\n",
       "      <td>24.900000</td>\n",
       "      <td>0.0</td>\n",
       "    </tr>\n",
       "    <tr>\n",
       "      <th>30</th>\n",
       "      <td>16.0</td>\n",
       "      <td>34.455556</td>\n",
       "      <td>34.455556</td>\n",
       "      <td>0.0</td>\n",
       "    </tr>\n",
       "    <tr>\n",
       "      <th>31</th>\n",
       "      <td>16.5</td>\n",
       "      <td>34.455556</td>\n",
       "      <td>34.455556</td>\n",
       "      <td>0.0</td>\n",
       "    </tr>\n",
       "    <tr>\n",
       "      <th>32</th>\n",
       "      <td>17.0</td>\n",
       "      <td>34.455556</td>\n",
       "      <td>34.455556</td>\n",
       "      <td>0.0</td>\n",
       "    </tr>\n",
       "    <tr>\n",
       "      <th>33</th>\n",
       "      <td>17.5</td>\n",
       "      <td>34.455556</td>\n",
       "      <td>34.455556</td>\n",
       "      <td>0.0</td>\n",
       "    </tr>\n",
       "    <tr>\n",
       "      <th>34</th>\n",
       "      <td>18.0</td>\n",
       "      <td>34.455556</td>\n",
       "      <td>34.455556</td>\n",
       "      <td>0.0</td>\n",
       "    </tr>\n",
       "    <tr>\n",
       "      <th>35</th>\n",
       "      <td>18.5</td>\n",
       "      <td>34.455556</td>\n",
       "      <td>34.455556</td>\n",
       "      <td>0.0</td>\n",
       "    </tr>\n",
       "    <tr>\n",
       "      <th>36</th>\n",
       "      <td>19.0</td>\n",
       "      <td>34.455556</td>\n",
       "      <td>34.455556</td>\n",
       "      <td>0.0</td>\n",
       "    </tr>\n",
       "    <tr>\n",
       "      <th>37</th>\n",
       "      <td>19.5</td>\n",
       "      <td>48.300000</td>\n",
       "      <td>48.300000</td>\n",
       "      <td>0.0</td>\n",
       "    </tr>\n",
       "    <tr>\n",
       "      <th>38</th>\n",
       "      <td>20.0</td>\n",
       "      <td>48.300000</td>\n",
       "      <td>48.300000</td>\n",
       "      <td>0.0</td>\n",
       "    </tr>\n",
       "    <tr>\n",
       "      <th>39</th>\n",
       "      <td>20.5</td>\n",
       "      <td>48.300000</td>\n",
       "      <td>48.300000</td>\n",
       "      <td>0.0</td>\n",
       "    </tr>\n",
       "    <tr>\n",
       "      <th>40</th>\n",
       "      <td>21.0</td>\n",
       "      <td>48.300000</td>\n",
       "      <td>48.300000</td>\n",
       "      <td>0.0</td>\n",
       "    </tr>\n",
       "  </tbody>\n",
       "</table>\n",
       "</div>"
      ],
      "text/plain": [
       "    jobexp   income_x   income_y  predict income B - A\n",
       "0      1.0   7.350000   7.350000                   0.0\n",
       "1      1.5   7.350000   7.350000                   0.0\n",
       "2      2.0   7.350000   7.350000                   0.0\n",
       "3      2.5   7.350000   7.350000                   0.0\n",
       "4      3.0   7.350000   7.350000                   0.0\n",
       "5      3.5   7.350000   7.350000                   0.0\n",
       "6      4.0   7.350000   7.350000                   0.0\n",
       "7      4.5   7.350000   7.350000                   0.0\n",
       "8      5.0   7.350000   7.350000                   0.0\n",
       "9      5.5   7.350000   7.350000                   0.0\n",
       "10     6.0   7.350000   7.350000                   0.0\n",
       "11     6.5  24.900000  24.900000                   0.0\n",
       "12     7.0  24.900000  24.900000                   0.0\n",
       "13     7.5  24.900000  24.900000                   0.0\n",
       "14     8.0  24.900000  24.900000                   0.0\n",
       "15     8.5  24.900000  24.900000                   0.0\n",
       "16     9.0  24.900000  24.900000                   0.0\n",
       "17     9.5  24.900000  24.900000                   0.0\n",
       "18    10.0  24.900000  24.900000                   0.0\n",
       "19    10.5  24.900000  24.900000                   0.0\n",
       "20    11.0  24.900000  24.900000                   0.0\n",
       "21    11.5  24.900000  24.900000                   0.0\n",
       "22    12.0  24.900000  24.900000                   0.0\n",
       "23    12.5  24.900000  24.900000                   0.0\n",
       "24    13.0  24.900000  24.900000                   0.0\n",
       "25    13.5  24.900000  24.900000                   0.0\n",
       "26    14.0  24.900000  24.900000                   0.0\n",
       "27    14.5  24.900000  24.900000                   0.0\n",
       "28    15.0  24.900000  24.900000                   0.0\n",
       "29    15.5  24.900000  24.900000                   0.0\n",
       "30    16.0  34.455556  34.455556                   0.0\n",
       "31    16.5  34.455556  34.455556                   0.0\n",
       "32    17.0  34.455556  34.455556                   0.0\n",
       "33    17.5  34.455556  34.455556                   0.0\n",
       "34    18.0  34.455556  34.455556                   0.0\n",
       "35    18.5  34.455556  34.455556                   0.0\n",
       "36    19.0  34.455556  34.455556                   0.0\n",
       "37    19.5  48.300000  48.300000                   0.0\n",
       "38    20.0  48.300000  48.300000                   0.0\n",
       "39    20.5  48.300000  48.300000                   0.0\n",
       "40    21.0  48.300000  48.300000                   0.0"
      ]
     },
     "execution_count": 275,
     "metadata": {},
     "output_type": "execute_result"
    }
   ],
   "source": [
    "df_b_result"
   ]
  },
  {
   "cell_type": "code",
   "execution_count": 276,
   "id": "3c7ee3e1-6b7e-4169-ba37-244d253d1e60",
   "metadata": {},
   "outputs": [],
   "source": [
    "df_b_result.columns = [\"jobexp\",\"predicted income A\",\"predicted income B\",\"predict income B - A\" ]"
   ]
  },
  {
   "cell_type": "code",
   "execution_count": 236,
   "id": "93ef0c12-5130-469e-8f8c-9c6224e1ea6b",
   "metadata": {},
   "outputs": [],
   "source": [
    "df_b_result.to_csv(\"~/b.result.csv\")"
   ]
  },
  {
   "cell_type": "code",
   "execution_count": 277,
   "id": "2f09b9fe-2790-4220-b1ca-944b84a9e397",
   "metadata": {},
   "outputs": [],
   "source": [
    "df_bd = pd.concat([df_bb,df_bc],axis = 0)"
   ]
  },
  {
   "cell_type": "code",
   "execution_count": 279,
   "id": "2ea1e348-e5be-4c09-a9be-03bb80e6077b",
   "metadata": {},
   "outputs": [],
   "source": [
    "#for this two tree, we calculate the sum error, and then the R-square to compare them\n",
    "ESS = np.sum((df['income'] - tree.predict(df[['educ','jobexp','group_A']]))**2)\n"
   ]
  },
  {
   "cell_type": "code",
   "execution_count": 280,
   "id": "1fb83b32-08db-4291-a978-351adb74b67c",
   "metadata": {},
   "outputs": [
    {
     "data": {
      "text/plain": [
       "8077.072222222221"
      ]
     },
     "execution_count": 280,
     "metadata": {},
     "output_type": "execute_result"
    }
   ],
   "source": [
    "ESS"
   ]
  },
  {
   "cell_type": "code",
   "execution_count": 281,
   "id": "33b8c2a4-127e-4be4-ab4b-aa408cc0dfff",
   "metadata": {},
   "outputs": [],
   "source": [
    "TSS = np.sum((df['income'] - np.mean(df['income']))**2)\n",
    "#Calculate the Rsquare in order to compare two models\n",
    "Rsquare = 1 - ESS/TSS"
   ]
  },
  {
   "cell_type": "code",
   "execution_count": 282,
   "id": "5b5d7d31-075a-413f-85c0-5d57be3cd241",
   "metadata": {},
   "outputs": [
    {
     "data": {
      "text/plain": [
       "0.7989840479770485"
      ]
     },
     "execution_count": 282,
     "metadata": {},
     "output_type": "execute_result"
    }
   ],
   "source": [
    "Rsquare"
   ]
  },
  {
   "cell_type": "code",
   "execution_count": null,
   "id": "cae4aaa3-93e5-4d1c-a0fd-f4fbc1c41171",
   "metadata": {},
   "outputs": [],
   "source": []
  },
  {
   "cell_type": "code",
   "execution_count": 283,
   "id": "09b52b9f-94f3-4962-a6c3-a53103822331",
   "metadata": {},
   "outputs": [
    {
     "name": "stderr",
     "output_type": "stream",
     "text": [
      "/home/hs3163/miniconda3/lib/python3.9/site-packages/plotnine/guides/guides.py:187: PlotnineWarning: Cannot generate legend for the 'color' aesthetic. Make sure you have mapped a variable to it\n"
     ]
    },
    {
     "data": {
      "image/png": "[encoded data removed]",
      "text/plain": [
       "<Figure size 900x900 with 1 Axes>"
      ]
     },
     "metadata": {},
     "output_type": "display_data"
    },
    {
     "data": {
      "text/plain": [
       "<ggplot: (2978475983713)>"
      ]
     },
     "execution_count": 283,
     "metadata": {},
     "output_type": "execute_result"
    }
   ],
   "source": [
    "\n",
    "ggplot(df_b_result,aes(x = df_b_result.jobexp, y = df_b_result[\"predict income B - A\"])) + geom_line()+\\\n",
    "  xlab('job exp') + ylab('predicted income')+theme(figure_size = (9, 9))+scale_colour_manual({\"A\":\"red\",\"B\":\"blue\"})+ggtitle(f'Tree: Rsquared = {Rsquare}')"
   ]
  },
  {
   "cell_type": "markdown",
   "id": "d7d9eb41-199d-4318-8db3-1e165091d43d",
   "metadata": {
    "tags": []
   },
   "source": [
    "## QC"
   ]
  },
  {
   "cell_type": "code",
   "execution_count": 565,
   "id": "1a142b8a-226d-466d-be6a-e66c4bd82e52",
   "metadata": {},
   "outputs": [],
   "source": [
    "from sklearn.neighbors import KNeighborsRegressor\n",
    "from sklearn import datasets\n",
    "from sklearn.metrics import confusion_matrix\n",
    "import matplotlib.pyplot as plt\n",
    "from matplotlib.colors import ListedColormap\n",
    "import matplotlib.image as img"
   ]
  },
  {
   "cell_type": "code",
   "execution_count": 566,
   "id": "770d6455-1544-41df-a669-5243df1db54c",
   "metadata": {},
   "outputs": [],
   "source": [
    "from sklearn import preprocessing\n"
   ]
  },
  {
   "cell_type": "code",
   "execution_count": 567,
   "id": "00da9e0a-c4ea-48b1-a626-e2a60e49bfd7",
   "metadata": {},
   "outputs": [],
   "source": [
    "scaler = preprocessing.StandardScaler()"
   ]
  },
  {
   "cell_type": "code",
   "execution_count": 591,
   "id": "83afac88-74ea-48ba-ad58-158305fa7ce5",
   "metadata": {},
   "outputs": [
    {
     "data": {
      "text/plain": [
       "StandardScaler()"
      ]
     },
     "execution_count": 591,
     "metadata": {},
     "output_type": "execute_result"
    }
   ],
   "source": [
    "scaler.fit(df[[\"educ\",\"jobexp\",\"group_A\"]])"
   ]
  },
  {
   "cell_type": "code",
   "execution_count": 569,
   "id": "5c3af424-1525-4641-947b-c0d73d8c2152",
   "metadata": {},
   "outputs": [
    {
     "data": {
      "text/plain": [
       "(500, 3)"
      ]
     },
     "execution_count": 569,
     "metadata": {},
     "output_type": "execute_result"
    }
   ],
   "source": [
    "df_scale.shape"
   ]
  },
  {
   "cell_type": "code",
   "execution_count": 592,
   "id": "7c3d7451-481e-4147-a434-567a86ad7932",
   "metadata": {},
   "outputs": [],
   "source": [
    "df_scale = scaler.transform(df[[\"educ\",\"jobexp\",\"group_A\"]])"
   ]
  },
  {
   "cell_type": "code",
   "execution_count": 605,
   "id": "ae42456d-8286-4779-a814-856190a47a20",
   "metadata": {},
   "outputs": [
    {
     "data": {
      "text/plain": [
       "0.9289614835965445"
      ]
     },
     "execution_count": 605,
     "metadata": {},
     "output_type": "execute_result"
    }
   ],
   "source": [
    "knn_clf = KNeighborsRegressor(43).fit(df_scale, df[\"income\"].values)\n",
    "y_pred = knn_clf.predict(df_scale)\n",
    "ESS = np.sum((df[\"income\"].values - y_pred)**2)\n",
    "TSS = np.sum((df[\"income\"].values - np.mean(df[\"income\"].values))**2)\n",
    "RsquareKNN = 1 - ESS/TSS\n",
    "RsquareKNN"
   ]
  },
  {
   "cell_type": "code",
   "execution_count": 604,
   "id": "4971e281-a8f2-4001-95dd-802485e4ecf5",
   "metadata": {},
   "outputs": [
    {
     "data": {
      "text/plain": [
       "0.9318789345835212"
      ]
     },
     "execution_count": 604,
     "metadata": {},
     "output_type": "execute_result"
    }
   ],
   "source": [
    "a,b = scipy.stats.pearsonr(df[\"income\"],y_pred)\n",
    "a**2"
   ]
  },
  {
   "cell_type": "markdown",
   "id": "c88409da-cd7f-441e-9a91-35380a3cf735",
   "metadata": {},
   "source": [
    "## QC c"
   ]
  },
  {
   "cell_type": "code",
   "execution_count": 576,
   "id": "b1eb821c-9cf1-40d4-8b80-b293a5430161",
   "metadata": {},
   "outputs": [],
   "source": [
    "df_ca = scaler.transform(df_bb[[\"educ\",\"jobexp\",\"group_A\"]])\n",
    "df_cb = scaler.transform(df_bc[[\"educ\",\"jobexp\",\"group_A\"]])\n"
   ]
  },
  {
   "cell_type": "code",
   "execution_count": 577,
   "id": "f38c6eba-57ce-4f63-90ec-4db25f4f30a0",
   "metadata": {},
   "outputs": [],
   "source": [
    "df_bb[\"income\"] = y_pred_ca = knn_clf.predict(df_ca)\n",
    "df_bc[\"income\"] = y_pred_cb = knn_clf.predict(df_cb)"
   ]
  },
  {
   "cell_type": "code",
   "execution_count": 578,
   "id": "8ba63531-e072-4937-a494-cad1e3d6cfb9",
   "metadata": {},
   "outputs": [],
   "source": [
    "df_c_result = df_bb.merge(df_bc, on = \"jobexp\")\n",
    "df_c_result = df_c_result.drop([\"group_A_x\",\"group_A_y\",\"educ_x\",\"educ_y\"],axis = 1)\n",
    "df_c_result[\"predict income B - A\"] =df_c_result.income_y - df_c_result.income_x"
   ]
  },
  {
   "cell_type": "code",
   "execution_count": 579,
   "id": "5815c44d-eea8-4d27-aee0-70b37bfd3112",
   "metadata": {},
   "outputs": [
    {
     "name": "stderr",
     "output_type": "stream",
     "text": [
      "/home/hs3163/miniconda3/lib/python3.9/site-packages/plotnine/guides/guides.py:187: PlotnineWarning: Cannot generate legend for the 'color' aesthetic. Make sure you have mapped a variable to it\n"
     ]
    },
    {
     "data": {
      "image/png": "[encoded data removed]",
      "text/plain": [
       "<Figure size 900x900 with 1 Axes>"
      ]
     },
     "metadata": {},
     "output_type": "display_data"
    },
    {
     "data": {
      "text/plain": [
       "<ggplot: (2978476953360)>"
      ]
     },
     "execution_count": 579,
     "metadata": {},
     "output_type": "execute_result"
    }
   ],
   "source": [
    "ggplot(df_c_result,aes(x = df_c_result.jobexp, y = df_c_result[\"predict income B - A\"])) + geom_line()+\\\n",
    "  xlab('job exp') + ylab('predicted income')+theme(figure_size = (9, 9))+scale_colour_manual({\"A\":\"red\",\"B\":\"blue\"})+ggtitle(f'KNN: Rsquared = {RsquareKNN}')"
   ]
  },
  {
   "cell_type": "code",
   "execution_count": 602,
   "id": "360125e1-93f2-4ee2-a886-647fe97dce3b",
   "metadata": {},
   "outputs": [],
   "source": []
  },
  {
   "cell_type": "code",
   "execution_count": 603,
   "id": "cc7b3747-9c66-47e5-bf6b-ba3bd7981128",
   "metadata": {},
   "outputs": [
    {
     "data": {
      "text/plain": [
       "0.9318789345835212"
      ]
     },
     "execution_count": 603,
     "metadata": {},
     "output_type": "execute_result"
    }
   ],
   "source": []
  },
  {
   "cell_type": "code",
   "execution_count": null,
   "id": "ca779426-c2af-4d05-ac83-c1bb639d8e9f",
   "metadata": {},
   "outputs": [],
   "source": []
  }
 ],
 "metadata": {
  "kernelspec": {
   "display_name": "Python 3 (ipykernel)",
   "language": "python",
   "name": "python3"
  },
  "language_info": {
   "codemirror_mode": {
    "name": "ipython",
    "version": 3
   },
   "file_extension": ".py",
   "mimetype": "text/x-python",
   "name": "python",
   "nbconvert_exporter": "python",
   "pygments_lexer": "ipython3",
   "version": "3.9.5"
  }
 },
 "nbformat": 4,
 "nbformat_minor": 5
}
